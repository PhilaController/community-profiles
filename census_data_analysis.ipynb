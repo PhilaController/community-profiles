{
 "cells": [
  {
   "cell_type": "markdown",
   "metadata": {},
   "source": [
    "# Analysis of Census Data"
   ]
  },
  {
   "cell_type": "markdown",
   "metadata": {},
   "source": [
    "Analysis of the 2013-2017 American Community Survey 5-year Public Use Microdata Sample files of population and housing unit records. \n",
    "\n",
    "Introduction and indicator section for website \n",
    "\n",
    "Counts, not percentages \n"
   ]
  },
  {
   "cell_type": "markdown",
   "metadata": {},
   "source": [
    "### Configuration"
   ]
  },
  {
   "cell_type": "markdown",
   "metadata": {},
   "source": [
    "Load the software packages needed. "
   ]
  },
  {
   "cell_type": "code",
   "execution_count": 2,
   "metadata": {},
   "outputs": [],
   "source": [
    "import numpy as np \n",
    "import pandas as pd\n",
    "import community_profiles.datasets as cp_data"
   ]
  },
  {
   "cell_type": "markdown",
   "metadata": {},
   "source": [
    "### Load Census Data"
   ]
  },
  {
   "cell_type": "code",
   "execution_count": 3,
   "metadata": {},
   "outputs": [],
   "source": [
    "pumas = cp_data.PUMAs.get().sort_values('puma_id')\n",
    "house = cp_data.houses.get(fresh = True)\n",
    "persons = cp_data.persons.get(fresh = True) "
   ]
  },
  {
   "cell_type": "markdown",
   "metadata": {},
   "source": [
    "### Population"
   ]
  },
  {
   "cell_type": "code",
   "execution_count": 4,
   "metadata": {},
   "outputs": [],
   "source": [
    "group = persons.groupby('PUMA')\n",
    "pop = group['person_weight'].sum().reset_index().rename(columns = {'person_weight' : 'population'})\n",
    "population = pop['population']"
   ]
  },
  {
   "cell_type": "code",
   "execution_count": 5,
   "metadata": {},
   "outputs": [
    {
     "data": {
      "text/html": [
       "<div>\n",
       "<style scoped>\n",
       "    .dataframe tbody tr th:only-of-type {\n",
       "        vertical-align: middle;\n",
       "    }\n",
       "\n",
       "    .dataframe tbody tr th {\n",
       "        vertical-align: top;\n",
       "    }\n",
       "\n",
       "    .dataframe thead th {\n",
       "        text-align: right;\n",
       "    }\n",
       "</style>\n",
       "<table border=\"1\" class=\"dataframe\">\n",
       "  <thead>\n",
       "    <tr style=\"text-align: right;\">\n",
       "      <th></th>\n",
       "      <th>PUMA</th>\n",
       "      <th>population</th>\n",
       "    </tr>\n",
       "  </thead>\n",
       "  <tbody>\n",
       "    <tr>\n",
       "      <td>0</td>\n",
       "      <td>3201</td>\n",
       "      <td>155888</td>\n",
       "    </tr>\n",
       "    <tr>\n",
       "      <td>1</td>\n",
       "      <td>3202</td>\n",
       "      <td>147797</td>\n",
       "    </tr>\n",
       "    <tr>\n",
       "      <td>2</td>\n",
       "      <td>3203</td>\n",
       "      <td>132229</td>\n",
       "    </tr>\n",
       "    <tr>\n",
       "      <td>3</td>\n",
       "      <td>3204</td>\n",
       "      <td>169887</td>\n",
       "    </tr>\n",
       "    <tr>\n",
       "      <td>4</td>\n",
       "      <td>3205</td>\n",
       "      <td>166737</td>\n",
       "    </tr>\n",
       "    <tr>\n",
       "      <td>5</td>\n",
       "      <td>3206</td>\n",
       "      <td>138494</td>\n",
       "    </tr>\n",
       "    <tr>\n",
       "      <td>6</td>\n",
       "      <td>3207</td>\n",
       "      <td>103034</td>\n",
       "    </tr>\n",
       "    <tr>\n",
       "      <td>7</td>\n",
       "      <td>3208</td>\n",
       "      <td>136218</td>\n",
       "    </tr>\n",
       "    <tr>\n",
       "      <td>8</td>\n",
       "      <td>3209</td>\n",
       "      <td>137460</td>\n",
       "    </tr>\n",
       "    <tr>\n",
       "      <td>9</td>\n",
       "      <td>3210</td>\n",
       "      <td>151809</td>\n",
       "    </tr>\n",
       "    <tr>\n",
       "      <td>10</td>\n",
       "      <td>3211</td>\n",
       "      <td>130876</td>\n",
       "    </tr>\n",
       "  </tbody>\n",
       "</table>\n",
       "</div>"
      ],
      "text/plain": [
       "    PUMA  population\n",
       "0   3201      155888\n",
       "1   3202      147797\n",
       "2   3203      132229\n",
       "3   3204      169887\n",
       "4   3205      166737\n",
       "5   3206      138494\n",
       "6   3207      103034\n",
       "7   3208      136218\n",
       "8   3209      137460\n",
       "9   3210      151809\n",
       "10  3211      130876"
      ]
     },
     "execution_count": 5,
     "metadata": {},
     "output_type": "execute_result"
    }
   ],
   "source": [
    "pop"
   ]
  },
  {
   "cell_type": "markdown",
   "metadata": {},
   "source": [
    "### Population by age and sex\n",
    "\n",
    "0-9, 10-19, 20-29, ect. \n",
    "\n",
    " MAYBE BETTER WAY TO DO THIS? "
   ]
  },
  {
   "cell_type": "code",
   "execution_count": 6,
   "metadata": {},
   "outputs": [],
   "source": [
    "bins =  np.array([0,10,20,30,40,50, 60, 70, 80,100])  \n",
    "\n",
    "# male \n",
    "male = persons.loc[persons['SEX'] == 'male']\n",
    "group_m = male.groupby([pd.cut(male.AGEP, bins, right = False), 'PUMA'])\n",
    "male = group_m['person_weight'].sum().reset_index()\n",
    "male = male.pivot_table(values='person_weight', \n",
    "                                index='PUMA', \n",
    "                                columns=['AGEP']).reset_index(drop = True).add_prefix('male_')\n",
    "male = male.div(population, axis=0) *100\n",
    "\n",
    "# female \n",
    "female = persons.loc[persons['SEX'] == 'female']\n",
    "group_f = female.groupby([pd.cut(female.AGEP, bins, right = False), 'PUMA'])\n",
    "female = group_f['person_weight'].sum().reset_index()\n",
    "female = female.pivot_table(values='person_weight', \n",
    "                            index='PUMA', \n",
    "                            columns=['AGEP']).reset_index(drop = True).add_prefix('female_') \n",
    "female = female.div(population, axis=0) *100"
   ]
  },
  {
   "cell_type": "markdown",
   "metadata": {},
   "source": [
    "#### Age under 18 "
   ]
  },
  {
   "cell_type": "code",
   "execution_count": 7,
   "metadata": {},
   "outputs": [],
   "source": [
    "under18 = persons.loc[persons['AGEP'] < 18 ]\n",
    "groups = under18.groupby([ 'PUMA'])\n",
    "under18 = groups['person_weight'].sum().reset_index(drop = True)\n",
    "under18 = under18 / population *100"
   ]
  },
  {
   "cell_type": "markdown",
   "metadata": {},
   "source": [
    "#### Age 65 and older"
   ]
  },
  {
   "cell_type": "code",
   "execution_count": 8,
   "metadata": {},
   "outputs": [],
   "source": [
    "plus65 = persons.loc[persons['AGEP'] >= 65 ]\n",
    "groups1 = plus65.groupby(['PUMA'])\n",
    "plus65 = groups1['person_weight'].sum().reset_index(drop = True) \n",
    "plus65 = plus65  / population *100"
   ]
  },
  {
   "cell_type": "markdown",
   "metadata": {},
   "source": [
    "### Area and Density \n",
    "\n"
   ]
  },
  {
   "cell_type": "code",
   "execution_count": 9,
   "metadata": {},
   "outputs": [],
   "source": [
    "area = ((pumas['geometry'].area) * 3.58701e-8).reset_index(drop = True)\n",
    "density = population / area "
   ]
  },
  {
   "cell_type": "markdown",
   "metadata": {},
   "source": [
    "### Foreign-born \n"
   ]
  },
  {
   "cell_type": "code",
   "execution_count": 10,
   "metadata": {},
   "outputs": [],
   "source": [
    "foreign = persons.loc[persons['NATIVITY']== 'foreign']\n",
    "group = foreign.groupby(['PUMA'])\n",
    "foreign_born = group['person_weight'].sum().reset_index(drop = True)\n",
    "foreign_born =  foreign_born / population *100"
   ]
  },
  {
   "cell_type": "markdown",
   "metadata": {},
   "source": [
    "### Race and Hispanic origin\n",
    "\n",
    "#### Race\n"
   ]
  },
  {
   "cell_type": "markdown",
   "metadata": {},
   "source": [
    "sum other"
   ]
  },
  {
   "cell_type": "code",
   "execution_count": 11,
   "metadata": {},
   "outputs": [
    {
     "data": {
      "text/html": [
       "<div>\n",
       "<style scoped>\n",
       "    .dataframe tbody tr th:only-of-type {\n",
       "        vertical-align: middle;\n",
       "    }\n",
       "\n",
       "    .dataframe tbody tr th {\n",
       "        vertical-align: top;\n",
       "    }\n",
       "\n",
       "    .dataframe thead th {\n",
       "        text-align: right;\n",
       "    }\n",
       "</style>\n",
       "<table border=\"1\" class=\"dataframe\">\n",
       "  <thead>\n",
       "    <tr style=\"text-align: right;\">\n",
       "      <th>RACE</th>\n",
       "      <th>american indian alone</th>\n",
       "      <th>american indian and alaska native tribes specified</th>\n",
       "      <th>asian alone</th>\n",
       "      <th>black alone</th>\n",
       "      <th>native hawaiian/other pacific alone</th>\n",
       "      <th>some other race alone</th>\n",
       "      <th>two or more races</th>\n",
       "      <th>white alone</th>\n",
       "    </tr>\n",
       "  </thead>\n",
       "  <tbody>\n",
       "    <tr>\n",
       "      <td>0</td>\n",
       "      <td>140.0</td>\n",
       "      <td>217.0</td>\n",
       "      <td>12846.0</td>\n",
       "      <td>15781.0</td>\n",
       "      <td>136.0</td>\n",
       "      <td>4107.0</td>\n",
       "      <td>3343.0</td>\n",
       "      <td>119318.0</td>\n",
       "    </tr>\n",
       "    <tr>\n",
       "      <td>1</td>\n",
       "      <td>402.0</td>\n",
       "      <td>20.0</td>\n",
       "      <td>19974.0</td>\n",
       "      <td>41824.0</td>\n",
       "      <td>16.0</td>\n",
       "      <td>14392.0</td>\n",
       "      <td>4245.0</td>\n",
       "      <td>66924.0</td>\n",
       "    </tr>\n",
       "    <tr>\n",
       "      <td>2</td>\n",
       "      <td>442.0</td>\n",
       "      <td>133.0</td>\n",
       "      <td>5411.0</td>\n",
       "      <td>37711.0</td>\n",
       "      <td>178.0</td>\n",
       "      <td>12485.0</td>\n",
       "      <td>4055.0</td>\n",
       "      <td>71814.0</td>\n",
       "    </tr>\n",
       "    <tr>\n",
       "      <td>3</td>\n",
       "      <td>56.0</td>\n",
       "      <td>529.0</td>\n",
       "      <td>11389.0</td>\n",
       "      <td>124186.0</td>\n",
       "      <td>25.0</td>\n",
       "      <td>11316.0</td>\n",
       "      <td>4793.0</td>\n",
       "      <td>17593.0</td>\n",
       "    </tr>\n",
       "    <tr>\n",
       "      <td>4</td>\n",
       "      <td>826.0</td>\n",
       "      <td>408.0</td>\n",
       "      <td>4832.0</td>\n",
       "      <td>37374.0</td>\n",
       "      <td>125.0</td>\n",
       "      <td>34216.0</td>\n",
       "      <td>6499.0</td>\n",
       "      <td>82457.0</td>\n",
       "    </tr>\n",
       "  </tbody>\n",
       "</table>\n",
       "</div>"
      ],
      "text/plain": [
       "RACE  american indian alone  \\\n",
       "0                     140.0   \n",
       "1                     402.0   \n",
       "2                     442.0   \n",
       "3                      56.0   \n",
       "4                     826.0   \n",
       "\n",
       "RACE  american indian and alaska native tribes specified  asian alone  \\\n",
       "0                                                 217.0       12846.0   \n",
       "1                                                  20.0       19974.0   \n",
       "2                                                 133.0        5411.0   \n",
       "3                                                 529.0       11389.0   \n",
       "4                                                 408.0        4832.0   \n",
       "\n",
       "RACE  black alone  native hawaiian/other pacific alone  some other race alone  \\\n",
       "0         15781.0                                136.0                 4107.0   \n",
       "1         41824.0                                 16.0                14392.0   \n",
       "2         37711.0                                178.0                12485.0   \n",
       "3        124186.0                                 25.0                11316.0   \n",
       "4         37374.0                                125.0                34216.0   \n",
       "\n",
       "RACE  two or more races  white alone  \n",
       "0                3343.0     119318.0  \n",
       "1                4245.0      66924.0  \n",
       "2                4055.0      71814.0  \n",
       "3                4793.0      17593.0  \n",
       "4                6499.0      82457.0  "
      ]
     },
     "execution_count": 11,
     "metadata": {},
     "output_type": "execute_result"
    }
   ],
   "source": [
    "group = persons.groupby(['RACE', 'PUMA'])\n",
    "race = group['person_weight'].sum().reset_index()\n",
    "\n",
    "race = race.pivot(index='PUMA', \n",
    "                  columns='RACE', \n",
    "                  values = 'person_weight').reset_index(drop =True)\n",
    "race.head()"
   ]
  },
  {
   "cell_type": "code",
   "execution_count": 12,
   "metadata": {},
   "outputs": [],
   "source": [
    "other = race.iloc[:, [0,1,4,5,6]].sum(axis =1)\n",
    "race['other'] = other "
   ]
  },
  {
   "cell_type": "markdown",
   "metadata": {},
   "source": [
    "drop summed columns "
   ]
  },
  {
   "cell_type": "code",
   "execution_count": 13,
   "metadata": {},
   "outputs": [],
   "source": [
    "race = (race.drop(race.columns[[0,1,4,5,6]], axis =1 ))"
   ]
  },
  {
   "cell_type": "markdown",
   "metadata": {},
   "source": [
    "\n",
    "#### Hispanic \n",
    "\n",
    "1. Not Spanish/Hispanic/Latino\n",
    "\n",
    "    All other # Hispanic"
   ]
  },
  {
   "cell_type": "code",
   "execution_count": 14,
   "metadata": {},
   "outputs": [],
   "source": [
    "hisp =  persons.loc[persons['HISP'] != 1] \n",
    "group = hisp.groupby(['HISP', 'PUMA'])\n",
    "hisp = group['person_weight'].sum().reset_index()\n",
    "hisp = hisp.pivot(index='PUMA', \n",
    "                  columns='HISP', \n",
    "                  values = 'person_weight').reset_index(drop =True)\n",
    "hisp = hisp.iloc[:, :].sum(axis =1)"
   ]
  },
  {
   "cell_type": "code",
   "execution_count": 15,
   "metadata": {},
   "outputs": [],
   "source": [
    "race['hispanic'] = hisp "
   ]
  },
  {
   "cell_type": "code",
   "execution_count": 16,
   "metadata": {},
   "outputs": [],
   "source": [
    "race = race.div(population, axis=0) *100"
   ]
  },
  {
   "cell_type": "markdown",
   "metadata": {},
   "source": [
    "#### Race and Hispanic combined in one dataframe"
   ]
  },
  {
   "cell_type": "code",
   "execution_count": 17,
   "metadata": {},
   "outputs": [
    {
     "data": {
      "text/html": [
       "<div>\n",
       "<style scoped>\n",
       "    .dataframe tbody tr th:only-of-type {\n",
       "        vertical-align: middle;\n",
       "    }\n",
       "\n",
       "    .dataframe tbody tr th {\n",
       "        vertical-align: top;\n",
       "    }\n",
       "\n",
       "    .dataframe thead th {\n",
       "        text-align: right;\n",
       "    }\n",
       "</style>\n",
       "<table border=\"1\" class=\"dataframe\">\n",
       "  <thead>\n",
       "    <tr style=\"text-align: right;\">\n",
       "      <th>RACE</th>\n",
       "      <th>asian alone</th>\n",
       "      <th>black alone</th>\n",
       "      <th>white alone</th>\n",
       "      <th>other</th>\n",
       "      <th>hispanic</th>\n",
       "    </tr>\n",
       "  </thead>\n",
       "  <tbody>\n",
       "    <tr>\n",
       "      <td>0</td>\n",
       "      <td>8.240532</td>\n",
       "      <td>10.123294</td>\n",
       "      <td>76.540850</td>\n",
       "      <td>5.095325</td>\n",
       "      <td>7.424561</td>\n",
       "    </tr>\n",
       "    <tr>\n",
       "      <td>1</td>\n",
       "      <td>13.514483</td>\n",
       "      <td>28.298274</td>\n",
       "      <td>45.281027</td>\n",
       "      <td>12.906216</td>\n",
       "      <td>19.769007</td>\n",
       "    </tr>\n",
       "    <tr>\n",
       "      <td>2</td>\n",
       "      <td>4.092143</td>\n",
       "      <td>28.519462</td>\n",
       "      <td>54.310325</td>\n",
       "      <td>13.078069</td>\n",
       "      <td>22.340788</td>\n",
       "    </tr>\n",
       "    <tr>\n",
       "      <td>3</td>\n",
       "      <td>6.703868</td>\n",
       "      <td>73.099178</td>\n",
       "      <td>10.355707</td>\n",
       "      <td>9.841247</td>\n",
       "      <td>14.776292</td>\n",
       "    </tr>\n",
       "    <tr>\n",
       "      <td>4</td>\n",
       "      <td>2.897977</td>\n",
       "      <td>22.414941</td>\n",
       "      <td>49.453331</td>\n",
       "      <td>25.233751</td>\n",
       "      <td>49.138464</td>\n",
       "    </tr>\n",
       "  </tbody>\n",
       "</table>\n",
       "</div>"
      ],
      "text/plain": [
       "RACE  asian alone  black alone  white alone      other   hispanic\n",
       "0        8.240532    10.123294    76.540850   5.095325   7.424561\n",
       "1       13.514483    28.298274    45.281027  12.906216  19.769007\n",
       "2        4.092143    28.519462    54.310325  13.078069  22.340788\n",
       "3        6.703868    73.099178    10.355707   9.841247  14.776292\n",
       "4        2.897977    22.414941    49.453331  25.233751  49.138464"
      ]
     },
     "execution_count": 17,
     "metadata": {},
     "output_type": "execute_result"
    }
   ],
   "source": [
    "race.head()"
   ]
  },
  {
   "cell_type": "markdown",
   "metadata": {},
   "source": [
    "### Educational attainment ( Age 25 + with a least a bachelor's)  \n",
    "\n",
    "SCHL\n",
    "\n",
    "21 .Bachelor's degree\n",
    "\n",
    "22 .Master's degree\n",
    "\n",
    "23 .Professional degree beyond a bachelor's degree\n",
    "\n",
    "24 .Doctorate degree\n"
   ]
  },
  {
   "cell_type": "code",
   "execution_count": 18,
   "metadata": {},
   "outputs": [],
   "source": [
    "bach_plus =  persons.loc[(persons['SCHL'] >= 21) & (persons['AGEP'] >= 25)] \n",
    "groups = bach_plus.groupby(['PUMA'])\n",
    "edu = groups['person_weight'].sum().reset_index(drop = True)\n",
    "edu =  edu / population *100"
   ]
  },
  {
   "cell_type": "markdown",
   "metadata": {},
   "source": [
    "### Limited English \n",
    "\n",
    "1 .Very well\n",
    "\n",
    "2 .Well\n",
    "\n",
    "3 .Not well\n",
    "\n",
    "4 .Not at all\n",
    "\n",
    "Limited( 3 + 4 ) "
   ]
  },
  {
   "cell_type": "code",
   "execution_count": 19,
   "metadata": {},
   "outputs": [],
   "source": [
    "lim_eng = persons.loc[persons['ENG'] >= 3]\n",
    "group = lim_eng.groupby(['PUMA'])\n",
    "lim_eng = group['person_weight'].sum().reset_index(drop = True)\n",
    "lim_eng =  lim_eng / population *100"
   ]
  },
  {
   "cell_type": "markdown",
   "metadata": {},
   "source": [
    "### Unemployed\n",
    "\n",
    "3. unemployed"
   ]
  },
  {
   "cell_type": "code",
   "execution_count": 20,
   "metadata": {},
   "outputs": [],
   "source": [
    "workers_group = persons.groupby(['EMPLOY', 'PUMA'])\n",
    "workers = workers_group['person_weight'].sum().reset_index() \n",
    "workers = workers.pivot(index='PUMA', columns='EMPLOY', \n",
    "                      values = 'person_weight').reset_index(drop=True)\n"
   ]
  },
  {
   "cell_type": "code",
   "execution_count": 21,
   "metadata": {},
   "outputs": [],
   "source": [
    "unemploy = workers[3] / population *100 "
   ]
  },
  {
   "cell_type": "code",
   "execution_count": 22,
   "metadata": {},
   "outputs": [],
   "source": [
    "workers = workers.iloc[:, [0,3]].sum(axis =1)"
   ]
  },
  {
   "cell_type": "markdown",
   "metadata": {},
   "source": [
    "### Commuting"
   ]
  },
  {
   "cell_type": "markdown",
   "metadata": {},
   "source": [
    "#### Commute time"
   ]
  },
  {
   "cell_type": "code",
   "execution_count": 23,
   "metadata": {},
   "outputs": [],
   "source": [
    "group = persons.groupby(['PUMA'])\n",
    "mean_commute = group['COM_TIME'].mean().reset_index(drop=True)"
   ]
  },
  {
   "cell_type": "markdown",
   "metadata": {},
   "source": [
    "#### Commute type\n"
   ]
  },
  {
   "cell_type": "code",
   "execution_count": 24,
   "metadata": {},
   "outputs": [],
   "source": [
    "group = persons.groupby(['COM_TYP', 'PUMA'])\n",
    "commute_t = group['person_weight'].sum().reset_index()\n",
    "commute_t = commute_t.pivot(index='PUMA', \n",
    "                            columns='COM_TYP',  \n",
    "                            values = 'person_weight').reset_index(drop=True)"
   ]
  },
  {
   "cell_type": "markdown",
   "metadata": {},
   "source": [
    "Public "
   ]
  },
  {
   "cell_type": "code",
   "execution_count": 25,
   "metadata": {},
   "outputs": [],
   "source": [
    "public = commute_t.iloc[:, [1,3,6,7,8]].sum(axis =1)\n",
    "commute_t['public'] = public"
   ]
  },
  {
   "cell_type": "markdown",
   "metadata": {},
   "source": [
    "Private"
   ]
  },
  {
   "cell_type": "code",
   "execution_count": 26,
   "metadata": {},
   "outputs": [],
   "source": [
    "private = commute_t.iloc[:, [2,4,9]].sum(axis =1)\n",
    "commute_t['private'] = private"
   ]
  },
  {
   "cell_type": "markdown",
   "metadata": {},
   "source": [
    "Drop summed columns dataframe"
   ]
  },
  {
   "cell_type": "code",
   "execution_count": 27,
   "metadata": {},
   "outputs": [],
   "source": [
    "commute_t = commute_t.drop(commute_t.columns[[1,2,3,4,6,7,8,9]], axis =1 )\n",
    "commute_t = commute_t.div(workers, axis=0) *100"
   ]
  },
  {
   "cell_type": "markdown",
   "metadata": {},
   "source": [
    "### Number of houses "
   ]
  },
  {
   "cell_type": "code",
   "execution_count": 28,
   "metadata": {},
   "outputs": [],
   "source": [
    "group = house.groupby('PUMA')\n",
    "house_count = group['house_weight'].sum().reset_index(drop=True)"
   ]
  },
  {
   "cell_type": "markdown",
   "metadata": {},
   "source": [
    "### Household Income \n",
    "\n",
    "Median "
   ]
  },
  {
   "cell_type": "code",
   "execution_count": 29,
   "metadata": {},
   "outputs": [],
   "source": [
    "# says use ADJINC to adjust HINCP to constant $ \n",
    "# Don't use and get this result IDK \n",
    "group = house.groupby(['PUMA'])\n",
    "med_income = (group['house_income']).median().reset_index(drop=True)"
   ]
  },
  {
   "cell_type": "markdown",
   "metadata": {},
   "source": [
    "### Rent Burden (35% or more of income goes to rent)\n",
    "\n",
    "not sure if this is right \n"
   ]
  },
  {
   "cell_type": "code",
   "execution_count": 30,
   "metadata": {},
   "outputs": [],
   "source": [
    "house['rent_income'] = (house['month_rent'] * 12 / house['house_income']) *100 \n",
    "above35 = house.where(house['rent_income'] >= 35) \n",
    "group = above35.groupby(['PUMA'])\n",
    "rent_burden = group['house_weight'].sum().reset_index(drop=True)\n",
    "rent_burden_percent = (rent_burden / house_count) * 100"
   ]
  },
  {
   "cell_type": "markdown",
   "metadata": {},
   "source": [
    "### Combine into one dataframe"
   ]
  },
  {
   "cell_type": "code",
   "execution_count": 35,
   "metadata": {},
   "outputs": [],
   "source": [
    "d = {'area' : area,\n",
    "     'population_density' : density,\n",
    "     'under_18' : under18,\n",
    "     '65_plus' : plus65,\n",
    "     'foreign_born' : foreign_born,\n",
    "     'educational_attainment' : edu,\n",
    "     'limited_english' : lim_eng,\n",
    "     'unemployed' : unemploy,\n",
    "     'median_income' : med_income,\n",
    "     'rent_burden' : rent_burden_percent,\n",
    "     'commute_time' : mean_commute,\n",
    "      }\n",
    "df = pd.DataFrame(d)"
   ]
  },
  {
   "cell_type": "code",
   "execution_count": 36,
   "metadata": {},
   "outputs": [],
   "source": [
    "df1 = pd.concat([ pop, df,  commute_t, race, male, female], axis = 1)"
   ]
  },
  {
   "cell_type": "code",
   "execution_count": 37,
   "metadata": {},
   "outputs": [
    {
     "data": {
      "text/html": [
       "<div>\n",
       "<style scoped>\n",
       "    .dataframe tbody tr th:only-of-type {\n",
       "        vertical-align: middle;\n",
       "    }\n",
       "\n",
       "    .dataframe tbody tr th {\n",
       "        vertical-align: top;\n",
       "    }\n",
       "\n",
       "    .dataframe thead th {\n",
       "        text-align: right;\n",
       "    }\n",
       "</style>\n",
       "<table border=\"1\" class=\"dataframe\">\n",
       "  <thead>\n",
       "    <tr style=\"text-align: right;\">\n",
       "      <th></th>\n",
       "      <th>PUMA</th>\n",
       "      <th>population</th>\n",
       "      <th>area</th>\n",
       "      <th>population_density</th>\n",
       "      <th>under_18</th>\n",
       "      <th>65_plus</th>\n",
       "      <th>foreign_born</th>\n",
       "      <th>educational_attainment</th>\n",
       "      <th>limited_english</th>\n",
       "      <th>unemployed</th>\n",
       "      <th>...</th>\n",
       "      <th>male_[80, 100)</th>\n",
       "      <th>female_[0, 10)</th>\n",
       "      <th>female_[10, 20)</th>\n",
       "      <th>female_[20, 30)</th>\n",
       "      <th>female_[30, 40)</th>\n",
       "      <th>female_[40, 50)</th>\n",
       "      <th>female_[50, 60)</th>\n",
       "      <th>female_[60, 70)</th>\n",
       "      <th>female_[70, 80)</th>\n",
       "      <th>female_[80, 100)</th>\n",
       "    </tr>\n",
       "  </thead>\n",
       "  <tbody>\n",
       "    <tr>\n",
       "      <td>0</td>\n",
       "      <td>3201</td>\n",
       "      <td>155888</td>\n",
       "      <td>27.408271</td>\n",
       "      <td>5687.626230</td>\n",
       "      <td>19.760341</td>\n",
       "      <td>19.592271</td>\n",
       "      <td>20.093272</td>\n",
       "      <td>18.502386</td>\n",
       "      <td>7.076234</td>\n",
       "      <td>3.174074</td>\n",
       "      <td>...</td>\n",
       "      <td>2.234296</td>\n",
       "      <td>5.503952</td>\n",
       "      <td>5.104947</td>\n",
       "      <td>5.736811</td>\n",
       "      <td>6.771528</td>\n",
       "      <td>6.044724</td>\n",
       "      <td>6.785641</td>\n",
       "      <td>6.804886</td>\n",
       "      <td>4.552628</td>\n",
       "      <td>3.636585</td>\n",
       "    </tr>\n",
       "    <tr>\n",
       "      <td>1</td>\n",
       "      <td>3202</td>\n",
       "      <td>147797</td>\n",
       "      <td>9.130013</td>\n",
       "      <td>16188.037485</td>\n",
       "      <td>26.930858</td>\n",
       "      <td>11.988065</td>\n",
       "      <td>29.135233</td>\n",
       "      <td>12.345311</td>\n",
       "      <td>13.007030</td>\n",
       "      <td>6.128676</td>\n",
       "      <td>...</td>\n",
       "      <td>1.150903</td>\n",
       "      <td>8.157811</td>\n",
       "      <td>6.246406</td>\n",
       "      <td>7.197710</td>\n",
       "      <td>7.094867</td>\n",
       "      <td>7.349946</td>\n",
       "      <td>6.383079</td>\n",
       "      <td>4.878989</td>\n",
       "      <td>2.293010</td>\n",
       "      <td>2.633342</td>\n",
       "    </tr>\n",
       "    <tr>\n",
       "      <td>2</td>\n",
       "      <td>3203</td>\n",
       "      <td>132229</td>\n",
       "      <td>10.872806</td>\n",
       "      <td>12161.442177</td>\n",
       "      <td>26.727117</td>\n",
       "      <td>10.036376</td>\n",
       "      <td>11.296312</td>\n",
       "      <td>9.429853</td>\n",
       "      <td>5.646265</td>\n",
       "      <td>5.643240</td>\n",
       "      <td>...</td>\n",
       "      <td>1.003562</td>\n",
       "      <td>7.753216</td>\n",
       "      <td>6.260351</td>\n",
       "      <td>7.281307</td>\n",
       "      <td>8.323439</td>\n",
       "      <td>6.999221</td>\n",
       "      <td>6.624114</td>\n",
       "      <td>4.334148</td>\n",
       "      <td>2.618185</td>\n",
       "      <td>1.604792</td>\n",
       "    </tr>\n",
       "    <tr>\n",
       "      <td>3</td>\n",
       "      <td>3204</td>\n",
       "      <td>169887</td>\n",
       "      <td>8.833050</td>\n",
       "      <td>19233.107103</td>\n",
       "      <td>24.117207</td>\n",
       "      <td>12.985102</td>\n",
       "      <td>13.663788</td>\n",
       "      <td>9.535750</td>\n",
       "      <td>6.506678</td>\n",
       "      <td>6.954623</td>\n",
       "      <td>...</td>\n",
       "      <td>0.743435</td>\n",
       "      <td>7.006422</td>\n",
       "      <td>7.072348</td>\n",
       "      <td>8.343193</td>\n",
       "      <td>7.301912</td>\n",
       "      <td>6.423093</td>\n",
       "      <td>7.161819</td>\n",
       "      <td>6.054613</td>\n",
       "      <td>3.346931</td>\n",
       "      <td>1.798843</td>\n",
       "    </tr>\n",
       "    <tr>\n",
       "      <td>4</td>\n",
       "      <td>3205</td>\n",
       "      <td>166737</td>\n",
       "      <td>11.489575</td>\n",
       "      <td>14512.025167</td>\n",
       "      <td>28.164115</td>\n",
       "      <td>8.574582</td>\n",
       "      <td>9.492794</td>\n",
       "      <td>9.165332</td>\n",
       "      <td>9.705104</td>\n",
       "      <td>6.128814</td>\n",
       "      <td>...</td>\n",
       "      <td>0.499589</td>\n",
       "      <td>7.263535</td>\n",
       "      <td>7.620984</td>\n",
       "      <td>8.327486</td>\n",
       "      <td>8.175150</td>\n",
       "      <td>6.158801</td>\n",
       "      <td>6.119817</td>\n",
       "      <td>4.240810</td>\n",
       "      <td>2.244253</td>\n",
       "      <td>0.982985</td>\n",
       "    </tr>\n",
       "    <tr>\n",
       "      <td>5</td>\n",
       "      <td>3206</td>\n",
       "      <td>138494</td>\n",
       "      <td>19.518036</td>\n",
       "      <td>7095.693597</td>\n",
       "      <td>18.109810</td>\n",
       "      <td>15.567461</td>\n",
       "      <td>5.481826</td>\n",
       "      <td>30.285067</td>\n",
       "      <td>0.734328</td>\n",
       "      <td>3.952518</td>\n",
       "      <td>...</td>\n",
       "      <td>1.643392</td>\n",
       "      <td>5.471717</td>\n",
       "      <td>4.539547</td>\n",
       "      <td>9.665401</td>\n",
       "      <td>7.849438</td>\n",
       "      <td>5.429838</td>\n",
       "      <td>7.226306</td>\n",
       "      <td>6.630612</td>\n",
       "      <td>3.400147</td>\n",
       "      <td>2.918538</td>\n",
       "    </tr>\n",
       "    <tr>\n",
       "      <td>6</td>\n",
       "      <td>3207</td>\n",
       "      <td>103034</td>\n",
       "      <td>6.832156</td>\n",
       "      <td>15080.744441</td>\n",
       "      <td>21.709339</td>\n",
       "      <td>11.868898</td>\n",
       "      <td>3.661898</td>\n",
       "      <td>7.891570</td>\n",
       "      <td>1.752819</td>\n",
       "      <td>5.594270</td>\n",
       "      <td>...</td>\n",
       "      <td>1.179222</td>\n",
       "      <td>6.107693</td>\n",
       "      <td>7.653784</td>\n",
       "      <td>10.062698</td>\n",
       "      <td>6.574529</td>\n",
       "      <td>5.826232</td>\n",
       "      <td>7.373294</td>\n",
       "      <td>5.228371</td>\n",
       "      <td>2.880603</td>\n",
       "      <td>2.318652</td>\n",
       "    </tr>\n",
       "    <tr>\n",
       "      <td>7</td>\n",
       "      <td>3208</td>\n",
       "      <td>136218</td>\n",
       "      <td>11.983238</td>\n",
       "      <td>11367.378597</td>\n",
       "      <td>23.286937</td>\n",
       "      <td>12.970386</td>\n",
       "      <td>8.029042</td>\n",
       "      <td>13.468851</td>\n",
       "      <td>1.046851</td>\n",
       "      <td>4.855452</td>\n",
       "      <td>...</td>\n",
       "      <td>1.074014</td>\n",
       "      <td>6.190078</td>\n",
       "      <td>7.947555</td>\n",
       "      <td>10.309210</td>\n",
       "      <td>6.001410</td>\n",
       "      <td>5.937541</td>\n",
       "      <td>6.675329</td>\n",
       "      <td>5.944882</td>\n",
       "      <td>3.298389</td>\n",
       "      <td>2.795519</td>\n",
       "    </tr>\n",
       "    <tr>\n",
       "      <td>8</td>\n",
       "      <td>3209</td>\n",
       "      <td>137460</td>\n",
       "      <td>6.629009</td>\n",
       "      <td>20736.129826</td>\n",
       "      <td>10.755856</td>\n",
       "      <td>13.545759</td>\n",
       "      <td>14.114652</td>\n",
       "      <td>58.402444</td>\n",
       "      <td>3.115088</td>\n",
       "      <td>2.721519</td>\n",
       "      <td>...</td>\n",
       "      <td>1.083224</td>\n",
       "      <td>4.001891</td>\n",
       "      <td>1.862360</td>\n",
       "      <td>15.421941</td>\n",
       "      <td>11.321112</td>\n",
       "      <td>5.034192</td>\n",
       "      <td>4.826131</td>\n",
       "      <td>4.600611</td>\n",
       "      <td>3.028517</td>\n",
       "      <td>2.215917</td>\n",
       "    </tr>\n",
       "    <tr>\n",
       "      <td>9</td>\n",
       "      <td>3210</td>\n",
       "      <td>151809</td>\n",
       "      <td>17.405158</td>\n",
       "      <td>8722.069645</td>\n",
       "      <td>21.044207</td>\n",
       "      <td>10.886048</td>\n",
       "      <td>13.294337</td>\n",
       "      <td>14.278468</td>\n",
       "      <td>2.459011</td>\n",
       "      <td>6.020723</td>\n",
       "      <td>...</td>\n",
       "      <td>0.948560</td>\n",
       "      <td>5.813226</td>\n",
       "      <td>7.310502</td>\n",
       "      <td>12.258825</td>\n",
       "      <td>7.294034</td>\n",
       "      <td>5.430508</td>\n",
       "      <td>6.083961</td>\n",
       "      <td>4.560336</td>\n",
       "      <td>2.877300</td>\n",
       "      <td>2.038746</td>\n",
       "    </tr>\n",
       "    <tr>\n",
       "      <td>10</td>\n",
       "      <td>3211</td>\n",
       "      <td>130876</td>\n",
       "      <td>11.058014</td>\n",
       "      <td>11835.398158</td>\n",
       "      <td>19.513891</td>\n",
       "      <td>14.110303</td>\n",
       "      <td>17.333965</td>\n",
       "      <td>16.604267</td>\n",
       "      <td>8.819799</td>\n",
       "      <td>4.992512</td>\n",
       "      <td>...</td>\n",
       "      <td>1.407439</td>\n",
       "      <td>5.519729</td>\n",
       "      <td>4.142853</td>\n",
       "      <td>9.048259</td>\n",
       "      <td>8.215410</td>\n",
       "      <td>6.230325</td>\n",
       "      <td>6.332712</td>\n",
       "      <td>6.098139</td>\n",
       "      <td>3.015068</td>\n",
       "      <td>2.582597</td>\n",
       "    </tr>\n",
       "  </tbody>\n",
       "</table>\n",
       "<p>11 rows × 42 columns</p>\n",
       "</div>"
      ],
      "text/plain": [
       "    PUMA  population       area  population_density   under_18    65_plus  \\\n",
       "0   3201      155888  27.408271         5687.626230  19.760341  19.592271   \n",
       "1   3202      147797   9.130013        16188.037485  26.930858  11.988065   \n",
       "2   3203      132229  10.872806        12161.442177  26.727117  10.036376   \n",
       "3   3204      169887   8.833050        19233.107103  24.117207  12.985102   \n",
       "4   3205      166737  11.489575        14512.025167  28.164115   8.574582   \n",
       "5   3206      138494  19.518036         7095.693597  18.109810  15.567461   \n",
       "6   3207      103034   6.832156        15080.744441  21.709339  11.868898   \n",
       "7   3208      136218  11.983238        11367.378597  23.286937  12.970386   \n",
       "8   3209      137460   6.629009        20736.129826  10.755856  13.545759   \n",
       "9   3210      151809  17.405158         8722.069645  21.044207  10.886048   \n",
       "10  3211      130876  11.058014        11835.398158  19.513891  14.110303   \n",
       "\n",
       "    foreign_born  educational_attainment  limited_english  unemployed  ...  \\\n",
       "0      20.093272               18.502386         7.076234    3.174074  ...   \n",
       "1      29.135233               12.345311        13.007030    6.128676  ...   \n",
       "2      11.296312                9.429853         5.646265    5.643240  ...   \n",
       "3      13.663788                9.535750         6.506678    6.954623  ...   \n",
       "4       9.492794                9.165332         9.705104    6.128814  ...   \n",
       "5       5.481826               30.285067         0.734328    3.952518  ...   \n",
       "6       3.661898                7.891570         1.752819    5.594270  ...   \n",
       "7       8.029042               13.468851         1.046851    4.855452  ...   \n",
       "8      14.114652               58.402444         3.115088    2.721519  ...   \n",
       "9      13.294337               14.278468         2.459011    6.020723  ...   \n",
       "10     17.333965               16.604267         8.819799    4.992512  ...   \n",
       "\n",
       "    male_[80, 100)  female_[0, 10)  female_[10, 20)  female_[20, 30)  \\\n",
       "0         2.234296        5.503952         5.104947         5.736811   \n",
       "1         1.150903        8.157811         6.246406         7.197710   \n",
       "2         1.003562        7.753216         6.260351         7.281307   \n",
       "3         0.743435        7.006422         7.072348         8.343193   \n",
       "4         0.499589        7.263535         7.620984         8.327486   \n",
       "5         1.643392        5.471717         4.539547         9.665401   \n",
       "6         1.179222        6.107693         7.653784        10.062698   \n",
       "7         1.074014        6.190078         7.947555        10.309210   \n",
       "8         1.083224        4.001891         1.862360        15.421941   \n",
       "9         0.948560        5.813226         7.310502        12.258825   \n",
       "10        1.407439        5.519729         4.142853         9.048259   \n",
       "\n",
       "    female_[30, 40)  female_[40, 50)  female_[50, 60)  female_[60, 70)  \\\n",
       "0          6.771528         6.044724         6.785641         6.804886   \n",
       "1          7.094867         7.349946         6.383079         4.878989   \n",
       "2          8.323439         6.999221         6.624114         4.334148   \n",
       "3          7.301912         6.423093         7.161819         6.054613   \n",
       "4          8.175150         6.158801         6.119817         4.240810   \n",
       "5          7.849438         5.429838         7.226306         6.630612   \n",
       "6          6.574529         5.826232         7.373294         5.228371   \n",
       "7          6.001410         5.937541         6.675329         5.944882   \n",
       "8         11.321112         5.034192         4.826131         4.600611   \n",
       "9          7.294034         5.430508         6.083961         4.560336   \n",
       "10         8.215410         6.230325         6.332712         6.098139   \n",
       "\n",
       "    female_[70, 80)  female_[80, 100)  \n",
       "0          4.552628          3.636585  \n",
       "1          2.293010          2.633342  \n",
       "2          2.618185          1.604792  \n",
       "3          3.346931          1.798843  \n",
       "4          2.244253          0.982985  \n",
       "5          3.400147          2.918538  \n",
       "6          2.880603          2.318652  \n",
       "7          3.298389          2.795519  \n",
       "8          3.028517          2.215917  \n",
       "9          2.877300          2.038746  \n",
       "10         3.015068          2.582597  \n",
       "\n",
       "[11 rows x 42 columns]"
      ]
     },
     "execution_count": 37,
     "metadata": {},
     "output_type": "execute_result"
    }
   ],
   "source": [
    "df1"
   ]
  },
  {
   "cell_type": "code",
   "execution_count": null,
   "metadata": {},
   "outputs": [],
   "source": []
  }
 ],
 "metadata": {
  "kernelspec": {
   "display_name": "Python 3",
   "language": "python",
   "name": "python3"
  },
  "language_info": {
   "codemirror_mode": {
    "name": "ipython",
    "version": 3
   },
   "file_extension": ".py",
   "mimetype": "text/x-python",
   "name": "python",
   "nbconvert_exporter": "python",
   "pygments_lexer": "ipython3",
   "version": "3.7.4"
  }
 },
 "nbformat": 4,
 "nbformat_minor": 2
}
