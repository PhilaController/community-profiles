{
 "cells": [
  {
   "cell_type": "markdown",
   "metadata": {},
   "source": [
    "# Analysis of Census Data"
   ]
  },
  {
   "cell_type": "markdown",
   "metadata": {},
   "source": [
    "Analysis of the 2013-2017 American Community Survey 5-year Public Use Microdata Sample files of population and housing unit records. \n",
    "\n",
    "Introduction and indicator section for website "
   ]
  },
  {
   "cell_type": "markdown",
   "metadata": {},
   "source": [
    "### Configuration"
   ]
  },
  {
   "cell_type": "markdown",
   "metadata": {},
   "source": [
    "Load the software packages needed. "
   ]
  },
  {
   "cell_type": "code",
   "execution_count": 4,
   "metadata": {},
   "outputs": [],
   "source": [
    "import numpy as np \n",
    "import pandas as pd\n",
    "import community_profiles.datasets as cp_data"
   ]
  },
  {
   "cell_type": "markdown",
   "metadata": {},
   "source": [
    "### Load Census Data"
   ]
  },
  {
   "cell_type": "code",
   "execution_count": 5,
   "metadata": {},
   "outputs": [],
   "source": [
    "pumas = cp_data.PUMAs.get().sort_values('puma_id')\n",
    "house = cp_data.houses.get()\n",
    "persons = cp_data.persons.get() "
   ]
  },
  {
   "cell_type": "markdown",
   "metadata": {},
   "source": [
    "### Population"
   ]
  },
  {
   "cell_type": "code",
   "execution_count": 7,
   "metadata": {},
<<<<<<< Updated upstream
   "outputs": [],
=======
   "outputs": [
    {
     "data": {
      "text/html": [
       "<div>\n",
       "<style scoped>\n",
       "    .dataframe tbody tr th:only-of-type {\n",
       "        vertical-align: middle;\n",
       "    }\n",
       "\n",
       "    .dataframe tbody tr th {\n",
       "        vertical-align: top;\n",
       "    }\n",
       "\n",
       "    .dataframe thead th {\n",
       "        text-align: right;\n",
       "    }\n",
       "</style>\n",
       "<table border=\"1\" class=\"dataframe\">\n",
       "  <thead>\n",
       "    <tr style=\"text-align: right;\">\n",
       "      <th></th>\n",
       "      <th>PUMA</th>\n",
       "      <th>PWGTP</th>\n",
       "    </tr>\n",
       "  </thead>\n",
       "  <tbody>\n",
       "    <tr>\n",
       "      <td>0</td>\n",
       "      <td>3201</td>\n",
       "      <td>155888</td>\n",
       "    </tr>\n",
       "    <tr>\n",
       "      <td>1</td>\n",
       "      <td>3202</td>\n",
       "      <td>147797</td>\n",
       "    </tr>\n",
       "    <tr>\n",
       "      <td>2</td>\n",
       "      <td>3203</td>\n",
       "      <td>132229</td>\n",
       "    </tr>\n",
       "    <tr>\n",
       "      <td>3</td>\n",
       "      <td>3204</td>\n",
       "      <td>169887</td>\n",
       "    </tr>\n",
       "    <tr>\n",
       "      <td>4</td>\n",
       "      <td>3205</td>\n",
       "      <td>166737</td>\n",
       "    </tr>\n",
       "  </tbody>\n",
       "</table>\n",
       "</div>"
      ],
      "text/plain": [
       "   PUMA   PWGTP\n",
       "0  3201  155888\n",
       "1  3202  147797\n",
       "2  3203  132229\n",
       "3  3204  169887\n",
       "4  3205  166737"
      ]
     },
     "execution_count": 7,
     "metadata": {},
     "output_type": "execute_result"
    }
   ],
>>>>>>> Stashed changes
   "source": [
    "# has puma_id, use this to start master dataframe\n",
    "pop_df = cp_data.census_count(persons, drop = False).rename(columns = {'person_weight' : 'population'}) \n",
    "# to get percentage \n",
    "population = pop_df['population']"
   ]
  },
  {
   "cell_type": "markdown",
   "metadata": {},
   "source": [
    "### Population by age and sex"
   ]
  },
  {
   "cell_type": "markdown",
   "metadata": {},
   "source": [
    "#### Age groups by sex"
   ]
  },
  {
   "cell_type": "code",
   "execution_count": 4,
   "metadata": {},
   "outputs": [
    {
     "name": "stderr",
     "output_type": "stream",
     "text": [
      "C:\\ProgramData\\Anaconda3\\lib\\site-packages\\ipykernel_launcher.py:7: SettingWithCopyWarning: \n",
      "A value is trying to be set on a copy of a slice from a DataFrame.\n",
      "Try using .loc[row_indexer,col_indexer] = value instead\n",
      "\n",
      "See the caveats in the documentation: http://pandas.pydata.org/pandas-docs/stable/user_guide/indexing.html#returning-a-view-versus-a-copy\n",
      "  import sys\n",
      "C:\\ProgramData\\Anaconda3\\lib\\site-packages\\ipykernel_launcher.py:12: SettingWithCopyWarning: \n",
      "A value is trying to be set on a copy of a slice from a DataFrame.\n",
      "Try using .loc[row_indexer,col_indexer] = value instead\n",
      "\n",
      "See the caveats in the documentation: http://pandas.pydata.org/pandas-docs/stable/user_guide/indexing.html#returning-a-view-versus-a-copy\n",
      "  if sys.path[0] == '':\n"
     ]
    }
   ],
   "source": [
    "# age bins\n",
    "# 0-9, 10-19, 20-29, ect.  \n",
    "bins =  np.array([0,10,20,30,40,50, 60, 70, 80, 100])  \n",
    "\n",
    "# male \n",
    "male = persons.loc[persons['SEX'] == 'male']\n",
    "male['age group'] = pd.cut(male.AGEP, bins, right=False)\n",
    "males = cp_data.census_count(male, group2 = 'age group', normalize = True, total = population).add_prefix('male_')\n",
    "\n",
    "# # female \n",
    "female = persons.loc[persons['SEX'] == 'female']\n",
    "female['age group'] = pd.cut(female.AGEP, bins, right=False)\n",
    "females = cp_data.census_count(female, group2 = 'age group', normalize = True, total = population).add_prefix('female_')"
   ]
  },
  {
   "cell_type": "markdown",
   "metadata": {},
   "source": [
    "#### Under 18 and 65 plus"
   ]
  },
  {
   "cell_type": "code",
   "execution_count": 5,
   "metadata": {},
   "outputs": [],
   "source": [
    "# under 18\n",
    "under18 = persons.loc[persons['AGEP'] < 18 ] # cut dataframe to ages below 18\n",
    "under18 = cp_data.census_count(under18, normalize = True, total = population)\n",
    "\n",
    "# 65+\n",
    "plus65 = persons.loc[persons['AGEP'] >= 65 ] # cut dataframe to ages 65 and above\n",
    "plus65 = cp_data.census_count(plus65, normalize = True, total = population)"
   ]
  },
  {
   "cell_type": "markdown",
   "metadata": {},
   "source": [
    "### Area and Density \n",
    "\n"
   ]
  },
  {
   "cell_type": "code",
   "execution_count": 6,
   "metadata": {},
   "outputs": [],
   "source": [
    "area = ((pumas['geometry'].area) * 3.58701e-8).reset_index(drop = True) # area in square miles\n",
    "density = population / area # population density (person per square mile)"
   ]
  },
  {
   "cell_type": "markdown",
   "metadata": {},
   "source": [
    "### Foreign-born \n"
   ]
  },
  {
   "cell_type": "code",
   "execution_count": 8,
   "metadata": {},
   "outputs": [],
   "source": [
    "# NATIVITY (native born or foreign born)\n",
    "foreign = persons.loc[persons['NATIVITY']== 'foreign'] # cut dataframe to just foreign born\n",
    "foreign =  cp_data.census_count(foreign, normalize = True, total = population)"
   ]
  },
  {
   "cell_type": "markdown",
   "metadata": {},
   "source": [
    "### Race and Hispanic origin\n",
    "\n",
    "#### Race\n"
   ]
  },
  {
   "cell_type": "code",
   "execution_count": 9,
   "metadata": {},
   "outputs": [],
   "source": [
    "race = cp_data.census_count(persons, group2 = 'RACE', normalize = True, total = population)\n",
    "\n",
    "# Combine \"other\" races \n",
    "other = race.iloc[:, [0,1,4,5,6]].sum(axis =1)\n",
    "race['other'] = other \n",
    "\n",
    "# drop combined columns\n",
    "race = (race.drop(race.columns[[0,1,4,5,6]], axis =1 ))"
   ]
  },
  {
   "cell_type": "markdown",
   "metadata": {},
   "source": [
    "#### Hispanic "
   ]
  },
  {
   "cell_type": "code",
   "execution_count": 10,
   "metadata": {},
   "outputs": [],
   "source": [
    "# HISP (hispanic origin)\n",
    "# 1. Not Spanish/Hispanic/Latino\n",
    "#  All other # Hispanic\n",
    "\n",
    "hisp =  persons.loc[persons['HISP'] != 1] # cut dataframe to just hispanic\n",
    "hisp = cp_data.census_count(hisp, group2 = 'HISP', normalize = True, total = population)\n",
    "\n",
    "# sum all hispanic types and add to race dataframe\n",
    "race['hispanic'] = hisp.iloc[:, :].sum(axis =1) "
   ]
  },
  {
   "cell_type": "markdown",
   "metadata": {},
   "source": [
    "### Educational attainment ( Age 25 + with a least a bachelor's)  "
   ]
  },
  {
   "cell_type": "code",
   "execution_count": 11,
   "metadata": {},
   "outputs": [],
   "source": [
    "# SCHL(education attained)\n",
    "# 21 .Bachelor's degree\n",
    "# 22 .Master's degree\n",
    "# 23 .Professional degree beyond a bachelor's degree\n",
    "# 24 .Doctorate degree\n",
    "\n",
    "# cut dataframe to bacherlor's degree or higher\n",
    "# cut dataframe to age 25 or older\n",
    "bach_plus =  persons.loc[(persons['SCHL'] >= 21) & (persons['AGEP'] >= 25)] \n",
    "edu =  cp_data.census_count(bach_plus, normalize = True, total = population)"
   ]
  },
  {
   "cell_type": "markdown",
   "metadata": {},
   "source": [
    "### Limited English  "
   ]
  },
  {
   "cell_type": "code",
   "execution_count": 12,
   "metadata": {},
   "outputs": [],
   "source": [
    "# ENG (english proficiency)\n",
    "# 1 .Very well\n",
    "# 2 .Well\n",
    "# 3 .Not well\n",
    "# 4 .Not at all\n",
    "# limited = 3 + 4  \n",
    "\n",
    "lim_eng = persons.loc[persons['ENG'] >= 3] # cut dataframe to not well and not at all \n",
    "lim_eng =  cp_data.census_count(lim_eng, normalize = True, total = population)"
   ]
  },
  {
   "cell_type": "markdown",
   "metadata": {},
   "source": [
    "### Employed"
   ]
  },
  {
   "cell_type": "code",
   "execution_count": 13,
   "metadata": {},
   "outputs": [],
   "source": [
    "# 1 .Civilian employed, at work\n",
    "# 2 .Civilian employed, with a job but not at work\n",
    "# 3 .Unemployed\n",
    "# 4 .Armed forces, at work\n",
    "# 5 .Armed forces, with a job but not at work\n",
    "# 6 .Not in labor force\n",
    "\n",
    "# Workers = 1. + 4. \n",
    "\n",
    "employ_status = cp_data.census_count(persons, group2 = 'EMPLOY') # dont use normalize bc need to get count of workers \n",
    "\n",
    "# Unemployed \n",
    "unemploy = employ_status[3] / population * 100 \n",
    "\n",
    "# Number of workers (need to calculate % of workers who use what type of commute method)\n",
    "workers = employ_status.iloc[:, [0,3]].sum(axis =1)"
   ]
  },
  {
   "cell_type": "markdown",
   "metadata": {},
   "source": [
    "### Commuting"
   ]
  },
  {
   "cell_type": "markdown",
   "metadata": {},
   "source": [
    "#### Mean Commute Time"
   ]
  },
  {
   "cell_type": "code",
   "execution_count": 14,
   "metadata": {},
   "outputs": [],
   "source": [
    "group = persons.groupby(['puma_id'])\n",
    "mean_commute = group['COM_TIME'].mean().reset_index(drop=True)"
   ]
  },
  {
   "cell_type": "markdown",
   "metadata": {},
   "source": [
    "#### Commute type\n"
   ]
  },
  {
   "cell_type": "code",
   "execution_count": 15,
   "metadata": {},
   "outputs": [],
   "source": [
    "# type of work commute \n",
    "commute_t = cp_data.census_count(persons, group2 = 'COM_TYP', normalize = True, total = workers)\n",
    "\n",
    "#public transportation\n",
    "public = commute_t.iloc[:, [1,3,6,7,8]].sum(axis =1)\n",
    "commute_t['public'] = public\n",
    "\n",
    "# private method\n",
    "private = commute_t.iloc[:, [2,4,9]].sum(axis =1)\n",
    "commute_t['private'] = private\n",
    "\n",
    "# Drop summed columns dataframe\n",
    "commute_t = commute_t.drop(commute_t.columns[[1,2,3,4,6,7,8,9]], axis =1 )"
   ]
  },
  {
   "cell_type": "markdown",
   "metadata": {},
   "source": [
    "### Number of Houses and Median Household Income"
   ]
  },
  {
   "cell_type": "code",
   "execution_count": 16,
   "metadata": {},
   "outputs": [],
   "source": [
    "group = house.groupby('puma_id')\n",
    "\n",
    "# Number of houses\n",
    "house_count = cp_data.census_count(house, weight = 'house_weight')\n",
    "\n",
    "# Median household income\n",
    "med_income = (group['house_income']).median().reset_index(drop=True)"
   ]
  },
  {
   "cell_type": "markdown",
   "metadata": {},
   "source": [
    "### Rent Burden (35% or more of income goes to rent)\n",
    "\n",
    "not sure if this is right \n"
   ]
  },
  {
   "cell_type": "code",
   "execution_count": 17,
   "metadata": {},
   "outputs": [],
   "source": [
    "# percent of yearly income spent on yearly rent\n",
    "house['rent_income'] = (house['month_rent'] * 12 / house['house_income']) *100 \n",
    "# where 35% or more of income is spent on rent\n",
    "above35 = house.where(house['rent_income'] >= 35) \n",
    "rent_burden = cp_data.census_count(above35, weight = 'house_weight', normalize = True, total = house_count)"
   ]
  },
  {
   "cell_type": "markdown",
   "metadata": {},
   "source": [
    "### Combine into one dataframe"
   ]
  },
  {
   "cell_type": "code",
   "execution_count": 18,
   "metadata": {
    "scrolled": true
   },
   "outputs": [
    {
     "data": {
      "text/html": [
       "<div>\n",
       "<style scoped>\n",
       "    .dataframe tbody tr th:only-of-type {\n",
       "        vertical-align: middle;\n",
       "    }\n",
       "\n",
       "    .dataframe tbody tr th {\n",
       "        vertical-align: top;\n",
       "    }\n",
       "\n",
       "    .dataframe thead th {\n",
       "        text-align: right;\n",
       "    }\n",
       "</style>\n",
       "<table border=\"1\" class=\"dataframe\">\n",
       "  <thead>\n",
       "    <tr style=\"text-align: right;\">\n",
       "      <th></th>\n",
       "      <th>puma_id</th>\n",
       "      <th>population</th>\n",
       "      <th>area</th>\n",
       "      <th>population_density</th>\n",
       "      <th>under_18</th>\n",
       "      <th>65_plus</th>\n",
       "      <th>foreign_born</th>\n",
       "      <th>educational_attainment</th>\n",
       "      <th>limited_english</th>\n",
       "      <th>unemployed</th>\n",
       "      <th>...</th>\n",
       "      <th>male_[80, 100)</th>\n",
       "      <th>female_[0, 10)</th>\n",
       "      <th>female_[10, 20)</th>\n",
       "      <th>female_[20, 30)</th>\n",
       "      <th>female_[30, 40)</th>\n",
       "      <th>female_[40, 50)</th>\n",
       "      <th>female_[50, 60)</th>\n",
       "      <th>female_[60, 70)</th>\n",
       "      <th>female_[70, 80)</th>\n",
       "      <th>female_[80, 100)</th>\n",
       "    </tr>\n",
       "  </thead>\n",
       "  <tbody>\n",
       "    <tr>\n",
       "      <td>0</td>\n",
       "      <td>3201</td>\n",
       "      <td>155888</td>\n",
       "      <td>27.408271</td>\n",
       "      <td>5687.626230</td>\n",
       "      <td>19.760341</td>\n",
       "      <td>19.592271</td>\n",
       "      <td>20.093272</td>\n",
       "      <td>18.502386</td>\n",
       "      <td>7.076234</td>\n",
       "      <td>3.174074</td>\n",
       "      <td>...</td>\n",
       "      <td>2.234296</td>\n",
       "      <td>5.503952</td>\n",
       "      <td>5.104947</td>\n",
       "      <td>5.736811</td>\n",
       "      <td>6.771528</td>\n",
       "      <td>6.044724</td>\n",
       "      <td>6.785641</td>\n",
       "      <td>6.804886</td>\n",
       "      <td>4.552628</td>\n",
       "      <td>3.636585</td>\n",
       "    </tr>\n",
       "    <tr>\n",
       "      <td>1</td>\n",
       "      <td>3202</td>\n",
       "      <td>147797</td>\n",
       "      <td>9.130013</td>\n",
       "      <td>16188.037485</td>\n",
       "      <td>26.930858</td>\n",
       "      <td>11.988065</td>\n",
       "      <td>29.135233</td>\n",
       "      <td>12.345311</td>\n",
       "      <td>13.007030</td>\n",
       "      <td>6.128676</td>\n",
       "      <td>...</td>\n",
       "      <td>1.150903</td>\n",
       "      <td>8.157811</td>\n",
       "      <td>6.246406</td>\n",
       "      <td>7.197710</td>\n",
       "      <td>7.094867</td>\n",
       "      <td>7.349946</td>\n",
       "      <td>6.383079</td>\n",
       "      <td>4.878989</td>\n",
       "      <td>2.293010</td>\n",
       "      <td>2.633342</td>\n",
       "    </tr>\n",
       "    <tr>\n",
       "      <td>2</td>\n",
       "      <td>3203</td>\n",
       "      <td>132229</td>\n",
       "      <td>10.872806</td>\n",
       "      <td>12161.442177</td>\n",
       "      <td>26.727117</td>\n",
       "      <td>10.036376</td>\n",
       "      <td>11.296312</td>\n",
       "      <td>9.429853</td>\n",
       "      <td>5.646265</td>\n",
       "      <td>5.643240</td>\n",
       "      <td>...</td>\n",
       "      <td>1.003562</td>\n",
       "      <td>7.753216</td>\n",
       "      <td>6.260351</td>\n",
       "      <td>7.281307</td>\n",
       "      <td>8.323439</td>\n",
       "      <td>6.999221</td>\n",
       "      <td>6.624114</td>\n",
       "      <td>4.334148</td>\n",
       "      <td>2.618185</td>\n",
       "      <td>1.604792</td>\n",
       "    </tr>\n",
       "    <tr>\n",
       "      <td>3</td>\n",
       "      <td>3204</td>\n",
       "      <td>169887</td>\n",
       "      <td>8.833050</td>\n",
       "      <td>19233.107103</td>\n",
       "      <td>24.117207</td>\n",
       "      <td>12.985102</td>\n",
       "      <td>13.663788</td>\n",
       "      <td>9.535750</td>\n",
       "      <td>6.506678</td>\n",
       "      <td>6.954623</td>\n",
       "      <td>...</td>\n",
       "      <td>0.743435</td>\n",
       "      <td>7.006422</td>\n",
       "      <td>7.072348</td>\n",
       "      <td>8.343193</td>\n",
       "      <td>7.301912</td>\n",
       "      <td>6.423093</td>\n",
       "      <td>7.161819</td>\n",
       "      <td>6.054613</td>\n",
       "      <td>3.346931</td>\n",
       "      <td>1.798843</td>\n",
       "    </tr>\n",
       "    <tr>\n",
       "      <td>4</td>\n",
       "      <td>3205</td>\n",
       "      <td>166737</td>\n",
       "      <td>11.489575</td>\n",
       "      <td>14512.025167</td>\n",
       "      <td>28.164115</td>\n",
       "      <td>8.574582</td>\n",
       "      <td>9.492794</td>\n",
       "      <td>9.165332</td>\n",
       "      <td>9.705104</td>\n",
       "      <td>6.128814</td>\n",
       "      <td>...</td>\n",
       "      <td>0.499589</td>\n",
       "      <td>7.263535</td>\n",
       "      <td>7.620984</td>\n",
       "      <td>8.327486</td>\n",
       "      <td>8.175150</td>\n",
       "      <td>6.158801</td>\n",
       "      <td>6.119817</td>\n",
       "      <td>4.240810</td>\n",
       "      <td>2.244253</td>\n",
       "      <td>0.982985</td>\n",
       "    </tr>\n",
       "    <tr>\n",
       "      <td>5</td>\n",
       "      <td>3206</td>\n",
       "      <td>138494</td>\n",
       "      <td>19.518036</td>\n",
       "      <td>7095.693597</td>\n",
       "      <td>18.109810</td>\n",
       "      <td>15.567461</td>\n",
       "      <td>5.481826</td>\n",
       "      <td>30.285067</td>\n",
       "      <td>0.734328</td>\n",
       "      <td>3.952518</td>\n",
       "      <td>...</td>\n",
       "      <td>1.643392</td>\n",
       "      <td>5.471717</td>\n",
       "      <td>4.539547</td>\n",
       "      <td>9.665401</td>\n",
       "      <td>7.849438</td>\n",
       "      <td>5.429838</td>\n",
       "      <td>7.226306</td>\n",
       "      <td>6.630612</td>\n",
       "      <td>3.400147</td>\n",
       "      <td>2.918538</td>\n",
       "    </tr>\n",
       "    <tr>\n",
       "      <td>6</td>\n",
       "      <td>3207</td>\n",
       "      <td>103034</td>\n",
       "      <td>6.832156</td>\n",
       "      <td>15080.744441</td>\n",
       "      <td>21.709339</td>\n",
       "      <td>11.868898</td>\n",
       "      <td>3.661898</td>\n",
       "      <td>7.891570</td>\n",
       "      <td>1.752819</td>\n",
       "      <td>5.594270</td>\n",
       "      <td>...</td>\n",
       "      <td>1.179222</td>\n",
       "      <td>6.107693</td>\n",
       "      <td>7.653784</td>\n",
       "      <td>10.062698</td>\n",
       "      <td>6.574529</td>\n",
       "      <td>5.826232</td>\n",
       "      <td>7.373294</td>\n",
       "      <td>5.228371</td>\n",
       "      <td>2.880603</td>\n",
       "      <td>2.318652</td>\n",
       "    </tr>\n",
       "    <tr>\n",
       "      <td>7</td>\n",
       "      <td>3208</td>\n",
       "      <td>136218</td>\n",
       "      <td>11.983238</td>\n",
       "      <td>11367.378597</td>\n",
       "      <td>23.286937</td>\n",
       "      <td>12.970386</td>\n",
       "      <td>8.029042</td>\n",
       "      <td>13.468851</td>\n",
       "      <td>1.046851</td>\n",
       "      <td>4.855452</td>\n",
       "      <td>...</td>\n",
       "      <td>1.074014</td>\n",
       "      <td>6.190078</td>\n",
       "      <td>7.947555</td>\n",
       "      <td>10.309210</td>\n",
       "      <td>6.001410</td>\n",
       "      <td>5.937541</td>\n",
       "      <td>6.675329</td>\n",
       "      <td>5.944882</td>\n",
       "      <td>3.298389</td>\n",
       "      <td>2.795519</td>\n",
       "    </tr>\n",
       "    <tr>\n",
       "      <td>8</td>\n",
       "      <td>3209</td>\n",
       "      <td>137460</td>\n",
       "      <td>6.629009</td>\n",
       "      <td>20736.129826</td>\n",
       "      <td>10.755856</td>\n",
       "      <td>13.545759</td>\n",
       "      <td>14.114652</td>\n",
       "      <td>58.402444</td>\n",
       "      <td>3.115088</td>\n",
       "      <td>2.721519</td>\n",
       "      <td>...</td>\n",
       "      <td>1.083224</td>\n",
       "      <td>4.001891</td>\n",
       "      <td>1.862360</td>\n",
       "      <td>15.421941</td>\n",
       "      <td>11.321112</td>\n",
       "      <td>5.034192</td>\n",
       "      <td>4.826131</td>\n",
       "      <td>4.600611</td>\n",
       "      <td>3.028517</td>\n",
       "      <td>2.215917</td>\n",
       "    </tr>\n",
       "    <tr>\n",
       "      <td>9</td>\n",
       "      <td>3210</td>\n",
       "      <td>151809</td>\n",
       "      <td>17.405158</td>\n",
       "      <td>8722.069645</td>\n",
       "      <td>21.044207</td>\n",
       "      <td>10.886048</td>\n",
       "      <td>13.294337</td>\n",
       "      <td>14.278468</td>\n",
       "      <td>2.459011</td>\n",
       "      <td>6.020723</td>\n",
       "      <td>...</td>\n",
       "      <td>0.948560</td>\n",
       "      <td>5.813226</td>\n",
       "      <td>7.310502</td>\n",
       "      <td>12.258825</td>\n",
       "      <td>7.294034</td>\n",
       "      <td>5.430508</td>\n",
       "      <td>6.083961</td>\n",
       "      <td>4.560336</td>\n",
       "      <td>2.877300</td>\n",
       "      <td>2.038746</td>\n",
       "    </tr>\n",
       "    <tr>\n",
       "      <td>10</td>\n",
       "      <td>3211</td>\n",
       "      <td>130876</td>\n",
       "      <td>11.058014</td>\n",
       "      <td>11835.398158</td>\n",
       "      <td>19.513891</td>\n",
       "      <td>14.110303</td>\n",
       "      <td>17.333965</td>\n",
       "      <td>16.604267</td>\n",
       "      <td>8.819799</td>\n",
       "      <td>4.992512</td>\n",
       "      <td>...</td>\n",
       "      <td>1.407439</td>\n",
       "      <td>5.519729</td>\n",
       "      <td>4.142853</td>\n",
       "      <td>9.048259</td>\n",
       "      <td>8.215410</td>\n",
       "      <td>6.230325</td>\n",
       "      <td>6.332712</td>\n",
       "      <td>6.098139</td>\n",
       "      <td>3.015068</td>\n",
       "      <td>2.582597</td>\n",
       "    </tr>\n",
       "  </tbody>\n",
       "</table>\n",
       "<p>11 rows × 42 columns</p>\n",
       "</div>"
      ],
      "text/plain": [
       "    puma_id  population       area  population_density   under_18    65_plus  \\\n",
       "0      3201      155888  27.408271         5687.626230  19.760341  19.592271   \n",
       "1      3202      147797   9.130013        16188.037485  26.930858  11.988065   \n",
       "2      3203      132229  10.872806        12161.442177  26.727117  10.036376   \n",
       "3      3204      169887   8.833050        19233.107103  24.117207  12.985102   \n",
       "4      3205      166737  11.489575        14512.025167  28.164115   8.574582   \n",
       "5      3206      138494  19.518036         7095.693597  18.109810  15.567461   \n",
       "6      3207      103034   6.832156        15080.744441  21.709339  11.868898   \n",
       "7      3208      136218  11.983238        11367.378597  23.286937  12.970386   \n",
       "8      3209      137460   6.629009        20736.129826  10.755856  13.545759   \n",
       "9      3210      151809  17.405158         8722.069645  21.044207  10.886048   \n",
       "10     3211      130876  11.058014        11835.398158  19.513891  14.110303   \n",
       "\n",
       "    foreign_born  educational_attainment  limited_english  unemployed  ...  \\\n",
       "0      20.093272               18.502386         7.076234    3.174074  ...   \n",
       "1      29.135233               12.345311        13.007030    6.128676  ...   \n",
       "2      11.296312                9.429853         5.646265    5.643240  ...   \n",
       "3      13.663788                9.535750         6.506678    6.954623  ...   \n",
       "4       9.492794                9.165332         9.705104    6.128814  ...   \n",
       "5       5.481826               30.285067         0.734328    3.952518  ...   \n",
       "6       3.661898                7.891570         1.752819    5.594270  ...   \n",
       "7       8.029042               13.468851         1.046851    4.855452  ...   \n",
       "8      14.114652               58.402444         3.115088    2.721519  ...   \n",
       "9      13.294337               14.278468         2.459011    6.020723  ...   \n",
       "10     17.333965               16.604267         8.819799    4.992512  ...   \n",
       "\n",
       "    male_[80, 100)  female_[0, 10)  female_[10, 20)  female_[20, 30)  \\\n",
       "0         2.234296        5.503952         5.104947         5.736811   \n",
       "1         1.150903        8.157811         6.246406         7.197710   \n",
       "2         1.003562        7.753216         6.260351         7.281307   \n",
       "3         0.743435        7.006422         7.072348         8.343193   \n",
       "4         0.499589        7.263535         7.620984         8.327486   \n",
       "5         1.643392        5.471717         4.539547         9.665401   \n",
       "6         1.179222        6.107693         7.653784        10.062698   \n",
       "7         1.074014        6.190078         7.947555        10.309210   \n",
       "8         1.083224        4.001891         1.862360        15.421941   \n",
       "9         0.948560        5.813226         7.310502        12.258825   \n",
       "10        1.407439        5.519729         4.142853         9.048259   \n",
       "\n",
       "    female_[30, 40)  female_[40, 50)  female_[50, 60)  female_[60, 70)  \\\n",
       "0          6.771528         6.044724         6.785641         6.804886   \n",
       "1          7.094867         7.349946         6.383079         4.878989   \n",
       "2          8.323439         6.999221         6.624114         4.334148   \n",
       "3          7.301912         6.423093         7.161819         6.054613   \n",
       "4          8.175150         6.158801         6.119817         4.240810   \n",
       "5          7.849438         5.429838         7.226306         6.630612   \n",
       "6          6.574529         5.826232         7.373294         5.228371   \n",
       "7          6.001410         5.937541         6.675329         5.944882   \n",
       "8         11.321112         5.034192         4.826131         4.600611   \n",
       "9          7.294034         5.430508         6.083961         4.560336   \n",
       "10         8.215410         6.230325         6.332712         6.098139   \n",
       "\n",
       "    female_[70, 80)  female_[80, 100)  \n",
       "0          4.552628          3.636585  \n",
       "1          2.293010          2.633342  \n",
       "2          2.618185          1.604792  \n",
       "3          3.346931          1.798843  \n",
       "4          2.244253          0.982985  \n",
       "5          3.400147          2.918538  \n",
       "6          2.880603          2.318652  \n",
       "7          3.298389          2.795519  \n",
       "8          3.028517          2.215917  \n",
       "9          2.877300          2.038746  \n",
       "10         3.015068          2.582597  \n",
       "\n",
       "[11 rows x 42 columns]"
      ]
     },
     "execution_count": 18,
     "metadata": {},
     "output_type": "execute_result"
    }
   ],
   "source": [
    "# combine series together into a dataframe\n",
    "d = {'area' : area,\n",
    "     'population_density' : density,\n",
    "     'under_18' : under18,\n",
    "     '65_plus' : plus65,\n",
    "     'foreign_born' : foreign,\n",
    "     'educational_attainment' : edu,\n",
    "     'limited_english' : lim_eng,\n",
    "     'unemployed' : unemploy,\n",
    "     'median_income' : med_income,\n",
    "     'rent_burden' : rent_burden,\n",
    "     'commute_time' : mean_commute,\n",
    "      }\n",
    "df = pd.DataFrame(d)\n",
    "\n",
    "# combine all dataframes together \n",
    "df = pd.concat([pop_df, df,  commute_t, race, males, females], axis = 1)\n",
    "\n",
    "df"
   ]
  }
 ],
 "metadata": {
  "kernelspec": {
   "display_name": "Python 3",
   "language": "python",
   "name": "python3"
  },
  "language_info": {
   "codemirror_mode": {
    "name": "ipython",
    "version": 3
   },
   "file_extension": ".py",
   "mimetype": "text/x-python",
   "name": "python",
   "nbconvert_exporter": "python",
   "pygments_lexer": "ipython3",
   "version": "3.7.4"
  }
 },
 "nbformat": 4,
 "nbformat_minor": 2
}
