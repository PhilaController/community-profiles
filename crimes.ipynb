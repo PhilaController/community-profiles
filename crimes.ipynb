{
 "cells": [
  {
   "cell_type": "markdown",
   "metadata": {},
   "source": [
    "## Crime Analysis "
   ]
  },
  {
   "cell_type": "markdown",
   "metadata": {},
   "source": [
    "### Configuration\n",
    "\n",
    "Load the software packages needed."
   ]
  },
  {
   "cell_type": "code",
   "execution_count": 1,
   "metadata": {},
   "outputs": [],
   "source": [
    "import numpy as np\n",
    "import pandas as pd\n",
    "import community_profiles.datasets as cp_data"
   ]
  },
  {
   "cell_type": "markdown",
   "metadata": {},
   "source": [
    "### Data\n",
    "\n",
    "Load the data needed."
   ]
  },
  {
   "cell_type": "code",
   "execution_count": 2,
   "metadata": {},
   "outputs": [],
   "source": [
    "crime = cp_data.CrimeIncidents.get()"
   ]
  },
  {
   "cell_type": "markdown",
   "metadata": {},
   "source": [
    "### Count the total in each PUMA"
   ]
  },
  {
   "cell_type": "markdown",
   "metadata": {},
   "source": [
    "### Non-violent crimes"
   ]
  },
  {
   "cell_type": "code",
   "execution_count": 3,
   "metadata": {},
   "outputs": [],
   "source": [
    "# cut data to only non-violent crimes\n",
    "non_violent = crime.loc[crime['ucr_general'] >=800]\n",
    "\n",
    "non_violent = cp_data.puma_count(non_violent)"
   ]
  },
  {
   "cell_type": "markdown",
   "metadata": {},
   "source": [
    "### Violent crimes"
   ]
  },
  {
   "cell_type": "code",
   "execution_count": 4,
   "metadata": {},
   "outputs": [],
   "source": [
    "# group into 6 main types:\n",
    "#     1. homicide\n",
    "#     2. rape\n",
    "#     3. robbery\n",
    "#     4. aggravated assault\n",
    "#     5. burglary\n",
    "#     6. thefts\n",
    "\n",
    "# cut data to violent crimes\n",
    "violent = crime.loc[crime['ucr_general'] < 800].dropna()\n",
    "\n",
    "# bins for types of violent crimes\n",
    "bins = np.array([99,199,299,399,499,599,799]) \n",
    "\n",
    "# group by 6 maine types and rename\n",
    "violent['crime group'] = pd.cut(violent.ucr_general, bins, labels=False)\n",
    "labels = np.array('homicide rape robbery aggravated_assault burglary thefts'.split())\n",
    "violent['crime group'] = labels[violent['crime group']]\n",
    "\n",
    "v_crimes = cp_data.puma_count(violent, 'crime group')"
   ]
  },
  {
   "cell_type": "markdown",
   "metadata": {},
   "source": [
    "### Combine into one Dataframe"
   ]
  },
  {
   "cell_type": "code",
   "execution_count": 5,
   "metadata": {},
   "outputs": [
    {
     "data": {
      "text/html": [
       "<div>\n",
       "<style scoped>\n",
       "    .dataframe tbody tr th:only-of-type {\n",
       "        vertical-align: middle;\n",
       "    }\n",
       "\n",
       "    .dataframe tbody tr th {\n",
       "        vertical-align: top;\n",
       "    }\n",
       "\n",
       "    .dataframe thead th {\n",
       "        text-align: right;\n",
       "    }\n",
       "</style>\n",
       "<table border=\"1\" class=\"dataframe\">\n",
       "  <thead>\n",
       "    <tr style=\"text-align: right;\">\n",
       "      <th></th>\n",
       "      <th>aggravated_assault</th>\n",
       "      <th>burglary</th>\n",
       "      <th>homicide</th>\n",
       "      <th>rape</th>\n",
       "      <th>robbery</th>\n",
       "      <th>thefts</th>\n",
       "      <th>non_violent</th>\n",
       "    </tr>\n",
       "    <tr>\n",
       "      <th>puma_id</th>\n",
       "      <th></th>\n",
       "      <th></th>\n",
       "      <th></th>\n",
       "      <th></th>\n",
       "      <th></th>\n",
       "      <th></th>\n",
       "      <th></th>\n",
       "    </tr>\n",
       "  </thead>\n",
       "  <tbody>\n",
       "    <tr>\n",
       "      <td>4203201.0</td>\n",
       "      <td>175</td>\n",
       "      <td>300</td>\n",
       "      <td>4</td>\n",
       "      <td>54</td>\n",
       "      <td>104</td>\n",
       "      <td>2331</td>\n",
       "      <td>3190</td>\n",
       "    </tr>\n",
       "    <tr>\n",
       "      <td>4203202.0</td>\n",
       "      <td>289</td>\n",
       "      <td>341</td>\n",
       "      <td>13</td>\n",
       "      <td>52</td>\n",
       "      <td>258</td>\n",
       "      <td>2798</td>\n",
       "      <td>4102</td>\n",
       "    </tr>\n",
       "    <tr>\n",
       "      <td>4203203.0</td>\n",
       "      <td>572</td>\n",
       "      <td>525</td>\n",
       "      <td>25</td>\n",
       "      <td>79</td>\n",
       "      <td>452</td>\n",
       "      <td>3734</td>\n",
       "      <td>6786</td>\n",
       "    </tr>\n",
       "    <tr>\n",
       "      <td>4203204.0</td>\n",
       "      <td>802</td>\n",
       "      <td>509</td>\n",
       "      <td>46</td>\n",
       "      <td>119</td>\n",
       "      <td>577</td>\n",
       "      <td>3523</td>\n",
       "      <td>8362</td>\n",
       "    </tr>\n",
       "    <tr>\n",
       "      <td>4203205.0</td>\n",
       "      <td>1375</td>\n",
       "      <td>794</td>\n",
       "      <td>66</td>\n",
       "      <td>147</td>\n",
       "      <td>919</td>\n",
       "      <td>6116</td>\n",
       "      <td>15708</td>\n",
       "    </tr>\n",
       "    <tr>\n",
       "      <td>4203206.0</td>\n",
       "      <td>486</td>\n",
       "      <td>515</td>\n",
       "      <td>20</td>\n",
       "      <td>81</td>\n",
       "      <td>243</td>\n",
       "      <td>3310</td>\n",
       "      <td>6477</td>\n",
       "    </tr>\n",
       "    <tr>\n",
       "      <td>4203207.0</td>\n",
       "      <td>1145</td>\n",
       "      <td>880</td>\n",
       "      <td>55</td>\n",
       "      <td>121</td>\n",
       "      <td>749</td>\n",
       "      <td>4904</td>\n",
       "      <td>10736</td>\n",
       "    </tr>\n",
       "    <tr>\n",
       "      <td>4203208.0</td>\n",
       "      <td>805</td>\n",
       "      <td>553</td>\n",
       "      <td>36</td>\n",
       "      <td>98</td>\n",
       "      <td>454</td>\n",
       "      <td>3746</td>\n",
       "      <td>13444</td>\n",
       "    </tr>\n",
       "    <tr>\n",
       "      <td>4203209.0</td>\n",
       "      <td>442</td>\n",
       "      <td>705</td>\n",
       "      <td>13</td>\n",
       "      <td>71</td>\n",
       "      <td>516</td>\n",
       "      <td>7508</td>\n",
       "      <td>8726</td>\n",
       "    </tr>\n",
       "    <tr>\n",
       "      <td>4203210.0</td>\n",
       "      <td>971</td>\n",
       "      <td>833</td>\n",
       "      <td>52</td>\n",
       "      <td>122</td>\n",
       "      <td>550</td>\n",
       "      <td>4675</td>\n",
       "      <td>10268</td>\n",
       "    </tr>\n",
       "    <tr>\n",
       "      <td>4203211.0</td>\n",
       "      <td>489</td>\n",
       "      <td>471</td>\n",
       "      <td>10</td>\n",
       "      <td>68</td>\n",
       "      <td>324</td>\n",
       "      <td>3788</td>\n",
       "      <td>5923</td>\n",
       "    </tr>\n",
       "  </tbody>\n",
       "</table>\n",
       "</div>"
      ],
      "text/plain": [
       "           aggravated_assault  burglary  homicide  rape  robbery  thefts  \\\n",
       "puma_id                                                                    \n",
       "4203201.0                 175       300         4    54      104    2331   \n",
       "4203202.0                 289       341        13    52      258    2798   \n",
       "4203203.0                 572       525        25    79      452    3734   \n",
       "4203204.0                 802       509        46   119      577    3523   \n",
       "4203205.0                1375       794        66   147      919    6116   \n",
       "4203206.0                 486       515        20    81      243    3310   \n",
       "4203207.0                1145       880        55   121      749    4904   \n",
       "4203208.0                 805       553        36    98      454    3746   \n",
       "4203209.0                 442       705        13    71      516    7508   \n",
       "4203210.0                 971       833        52   122      550    4675   \n",
       "4203211.0                 489       471        10    68      324    3788   \n",
       "\n",
       "           non_violent  \n",
       "puma_id                 \n",
       "4203201.0         3190  \n",
       "4203202.0         4102  \n",
       "4203203.0         6786  \n",
       "4203204.0         8362  \n",
       "4203205.0        15708  \n",
       "4203206.0         6477  \n",
       "4203207.0        10736  \n",
       "4203208.0        13444  \n",
       "4203209.0         8726  \n",
       "4203210.0        10268  \n",
       "4203211.0         5923  "
      ]
     },
     "execution_count": 5,
     "metadata": {},
     "output_type": "execute_result"
    }
   ],
   "source": [
    "crimes = pd.concat((v_crimes, non_violent), axis =1 ).rename(columns ={0 : 'non_violent'}) \n",
    "crimes"
   ]
  },
  {
   "cell_type": "code",
   "execution_count": null,
   "metadata": {},
   "outputs": [],
   "source": []
  }
 ],
 "metadata": {
  "kernelspec": {
   "display_name": "Python 3",
   "language": "python",
   "name": "python3"
  },
  "language_info": {
   "codemirror_mode": {
    "name": "ipython",
    "version": 3
   },
   "file_extension": ".py",
   "mimetype": "text/x-python",
   "name": "python",
   "nbconvert_exporter": "python",
   "pygments_lexer": "ipython3",
   "version": "3.7.4"
  }
 },
 "nbformat": 4,
 "nbformat_minor": 2
}
