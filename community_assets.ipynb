{
 "cells": [
  {
   "cell_type": "markdown",
   "metadata": {},
   "source": [
    "# Community Assests Analysis and Street/School Scores\n"
   ]
  },
  {
   "cell_type": "markdown",
   "metadata": {},
   "source": [
    "### Configuration\n",
    "\n",
    "Load the software packages needed. "
   ]
  },
  {
   "cell_type": "code",
   "execution_count": 1,
   "metadata": {},
   "outputs": [],
   "source": [
    "import numpy as np \n",
    "import pandas as pd\n",
    "import community_profiles.datasets as cp_data"
   ]
  },
  {
   "cell_type": "markdown",
   "metadata": {},
   "source": [
    "### Load the data\n"
   ]
  },
  {
   "cell_type": "code",
   "execution_count": 6,
   "metadata": {},
   "outputs": [],
   "source": [
    "pumas = cp_data.PUMAs.get().sort_values('puma_id').set_index('puma_id')\n",
    "\n",
    "facility = cp_data.CityOwned.get()\n",
    "library = facility.loc[facility['ASSET_GROU'] == 'Libraries'] \n",
    "playground = facility.loc[facility['ASSET_SUBT'] == 'Playground']\n",
    "\n",
    "parks = cp_data.Parks.get()\n",
    "\n",
    "hospitals = cp_data.Hospitals.get() \n",
    "health_centers = cp_data.HealthCenters.get() \n",
    "\n",
    "schools = cp_data.Schools.get()\n",
    "score = cp_data.SchoolScores.get()\n",
    "litter = cp_data.LitterIndex.get(fresh = True)\n",
    "condition = cp_data.StreetCondition.get() \n",
    "\n"
   ]
  },
  {
   "cell_type": "code",
   "execution_count": 2,
   "metadata": {},
   "outputs": [],
   "source": [
    "new_construction = cp_data.NewConstruction.get(fresh = True) "
   ]
  },
  {
   "cell_type": "markdown",
   "metadata": {},
   "source": [
    "### Count the total in each PUMA"
   ]
  },
  {
   "cell_type": "code",
   "execution_count": 4,
   "metadata": {},
   "outputs": [],
   "source": [
    "def puma_count(asset):\n",
    "    \"\"\" Returns the total number of the asset in each puma\"\"\"\n",
    "\n",
    "    group = asset.groupby('puma_id')\n",
    "    puma_count = group.size().reindex(pumas.index).fillna(0)\n",
    "\n",
    "    return puma_count"
   ]
  },
  {
   "cell_type": "code",
   "execution_count": null,
   "metadata": {},
   "outputs": [],
   "source": [
    "asset = [library, playground, parks,  hospitals, health_centers, schools]\n",
    "list_asset = []\n",
    "for i in asset:\n",
    "    list_asset.append(puma_count(i))\n",
    "    \n",
    "puma_assets = pd.concat(list_asset, axis =1 ).rename(columns={0: 'library', 1: 'playground', \n",
    "                                                              2 :'parks',  3 :'hospitals', \n",
    "                                                              4 :'health centers', 5 : 'schools'}) "
   ]
  },
  {
   "cell_type": "code",
   "execution_count": null,
   "metadata": {},
   "outputs": [],
   "source": [
    "puma_assets"
   ]
  },
  {
   "cell_type": "markdown",
   "metadata": {},
   "source": [
    "### Other indicators"
   ]
  },
  {
   "cell_type": "markdown",
   "metadata": {},
   "source": [
    "school score"
   ]
  },
  {
   "cell_type": "code",
   "execution_count": null,
   "metadata": {},
   "outputs": [],
   "source": [
    "# score['school group'] = pd.cut(score['Overall Sc'], bins=[0, 24, 49, 74, 100], labels=False)\n",
    "# labels = np.array('Score:0-24 Score:25-49 Score:50-74 Score:75-100'.split())\n",
    "# score['school group'] = labels[score['school group']]"
   ]
  },
  {
   "cell_type": "markdown",
   "metadata": {},
   "source": [
    "street condition score"
   ]
  },
  {
   "cell_type": "code",
   "execution_count": 9,
   "metadata": {},
   "outputs": [],
   "source": [
    "little_defect = condition.loc[condition['rating'] < 30 ]\n",
    "good_streets = puma_count(little_defect) / puma_count(condition) *100"
   ]
  },
  {
   "cell_type": "markdown",
   "metadata": {},
   "source": [
    "litter index "
   ]
  },
  {
   "cell_type": "code",
   "execution_count": 10,
   "metadata": {},
   "outputs": [],
   "source": [
    "litter = litter.loc[litter['YEAR'] == 2018] \n",
    "clean = litter.loc[(litter['score'] < 2) & (litter['score'] > 0)]\n",
    "clean = puma_count(clean) / puma_count(litter) *100"
   ]
  },
  {
   "cell_type": "markdown",
   "metadata": {},
   "source": [
    "New Construction permit"
   ]
  },
  {
   "cell_type": "code",
   "execution_count": 11,
   "metadata": {},
   "outputs": [],
   "source": [
    "new_con = puma_count(new_construction)"
   ]
  },
  {
   "cell_type": "code",
   "execution_count": 12,
   "metadata": {},
   "outputs": [],
   "source": [
    "d = {'good_street_cond' : good_streets,\n",
    "    'clean_streets' : clean,\n",
    "    'new_construction_permits' : new_con }\n",
    "df = pd.DataFrame(d)"
   ]
  },
  {
   "cell_type": "code",
   "execution_count": 13,
   "metadata": {},
   "outputs": [
    {
     "data": {
      "text/html": [
       "<div>\n",
       "<style scoped>\n",
       "    .dataframe tbody tr th:only-of-type {\n",
       "        vertical-align: middle;\n",
       "    }\n",
       "\n",
       "    .dataframe tbody tr th {\n",
       "        vertical-align: top;\n",
       "    }\n",
       "\n",
       "    .dataframe thead th {\n",
       "        text-align: right;\n",
       "    }\n",
       "</style>\n",
       "<table border=\"1\" class=\"dataframe\">\n",
       "  <thead>\n",
       "    <tr style=\"text-align: right;\">\n",
       "      <th></th>\n",
       "      <th>good_street_cond</th>\n",
       "      <th>clean_streets</th>\n",
       "      <th>new_construction_permits</th>\n",
       "    </tr>\n",
       "    <tr>\n",
       "      <th>puma_id</th>\n",
       "      <th></th>\n",
       "      <th></th>\n",
       "      <th></th>\n",
       "    </tr>\n",
       "  </thead>\n",
       "  <tbody>\n",
       "    <tr>\n",
       "      <td>4203201</td>\n",
       "      <td>36.811254</td>\n",
       "      <td>74.397245</td>\n",
       "      <td>37</td>\n",
       "    </tr>\n",
       "    <tr>\n",
       "      <td>4203202</td>\n",
       "      <td>45.901639</td>\n",
       "      <td>48.566108</td>\n",
       "      <td>16</td>\n",
       "    </tr>\n",
       "    <tr>\n",
       "      <td>4203203</td>\n",
       "      <td>32.352941</td>\n",
       "      <td>39.112903</td>\n",
       "      <td>12</td>\n",
       "    </tr>\n",
       "    <tr>\n",
       "      <td>4203204</td>\n",
       "      <td>6.024096</td>\n",
       "      <td>35.411622</td>\n",
       "      <td>6</td>\n",
       "    </tr>\n",
       "    <tr>\n",
       "      <td>4203205</td>\n",
       "      <td>12.831858</td>\n",
       "      <td>28.388694</td>\n",
       "      <td>469</td>\n",
       "    </tr>\n",
       "    <tr>\n",
       "      <td>4203206</td>\n",
       "      <td>21.231767</td>\n",
       "      <td>59.905921</td>\n",
       "      <td>113</td>\n",
       "    </tr>\n",
       "    <tr>\n",
       "      <td>4203207</td>\n",
       "      <td>21.739130</td>\n",
       "      <td>20.334657</td>\n",
       "      <td>370</td>\n",
       "    </tr>\n",
       "    <tr>\n",
       "      <td>4203208</td>\n",
       "      <td>22.302158</td>\n",
       "      <td>27.395902</td>\n",
       "      <td>58</td>\n",
       "    </tr>\n",
       "    <tr>\n",
       "      <td>4203209</td>\n",
       "      <td>29.914530</td>\n",
       "      <td>67.122351</td>\n",
       "      <td>318</td>\n",
       "    </tr>\n",
       "    <tr>\n",
       "      <td>4203210</td>\n",
       "      <td>23.006135</td>\n",
       "      <td>27.354678</td>\n",
       "      <td>59</td>\n",
       "    </tr>\n",
       "    <tr>\n",
       "      <td>4203211</td>\n",
       "      <td>35.465116</td>\n",
       "      <td>45.560166</td>\n",
       "      <td>359</td>\n",
       "    </tr>\n",
       "  </tbody>\n",
       "</table>\n",
       "</div>"
      ],
      "text/plain": [
       "         good_street_cond  clean_streets  new_construction_permits\n",
       "puma_id                                                           \n",
       "4203201         36.811254      74.397245                        37\n",
       "4203202         45.901639      48.566108                        16\n",
       "4203203         32.352941      39.112903                        12\n",
       "4203204          6.024096      35.411622                         6\n",
       "4203205         12.831858      28.388694                       469\n",
       "4203206         21.231767      59.905921                       113\n",
       "4203207         21.739130      20.334657                       370\n",
       "4203208         22.302158      27.395902                        58\n",
       "4203209         29.914530      67.122351                       318\n",
       "4203210         23.006135      27.354678                        59\n",
       "4203211         35.465116      45.560166                       359"
      ]
     },
     "execution_count": 13,
     "metadata": {},
     "output_type": "execute_result"
    }
   ],
   "source": [
    "df"
   ]
  },
  {
   "cell_type": "code",
   "execution_count": null,
   "metadata": {},
   "outputs": [],
   "source": []
  }
 ],
 "metadata": {
  "kernelspec": {
   "display_name": "Python 3",
   "language": "python",
   "name": "python3"
  },
  "language_info": {
   "codemirror_mode": {
    "name": "ipython",
    "version": 3
   },
   "file_extension": ".py",
   "mimetype": "text/x-python",
   "name": "python",
   "nbconvert_exporter": "python",
   "pygments_lexer": "ipython3",
   "version": "3.7.4"
  }
 },
 "nbformat": 4,
 "nbformat_minor": 2
}
