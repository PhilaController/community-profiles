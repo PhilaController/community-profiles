{
 "cells": [
  {
   "cell_type": "markdown",
   "metadata": {},
   "source": [
    "# Community Assests Analysis and Street/School Scores\n"
   ]
  },
  {
   "cell_type": "markdown",
   "metadata": {},
   "source": [
    "### Configuration\n",
    "\n",
    "Load the software packages needed. "
   ]
  },
  {
   "cell_type": "code",
   "execution_count": 1,
   "metadata": {},
   "outputs": [],
   "source": [
    "import numpy as np \n",
    "import pandas as pd\n",
    "import community_profiles.datasets as cp_data"
   ]
  },
  {
   "cell_type": "markdown",
   "metadata": {},
   "source": [
    "### Load the data\n"
   ]
  },
  {
   "cell_type": "code",
   "execution_count": 2,
   "metadata": {},
   "outputs": [],
   "source": [
    "facility = cp_data.CityOwned.get()\n",
    "library = facility.loc[facility['ASSET_GROU'] == 'Libraries'] \n",
    "playground = facility.loc[facility['ASSET_SUBT'] == 'Playground']\n",
    "\n",
    "parks = cp_data.Parks.get()\n",
    "\n",
    "hospitals = cp_data.Hospitals.get() \n",
    "health_centers = cp_data.HealthCenters.get() \n",
    "\n",
    "schools = cp_data.Schools.get()\n",
    "score = cp_data.SchoolScores.get()\n",
    "litter = cp_data.LitterIndex.get()\n",
    "condition = cp_data.StreetCondition.get() \n",
    "\n",
    "new_construction = cp_data.NewConstruction.get() "
   ]
  },
  {
   "cell_type": "markdown",
   "metadata": {},
   "source": [
    "### Community Assets"
   ]
  },
  {
   "cell_type": "code",
   "execution_count": 3,
   "metadata": {},
   "outputs": [],
   "source": [
    "asset = [library, playground, parks,  hospitals, health_centers, schools]\n",
    "list_asset = []\n",
    "for i in asset:\n",
    "    list_asset.append(cp_data.puma_count(i))\n",
    "    \n",
    "puma_assets = pd.concat(list_asset, axis =1 ).rename(columns={0: 'library', 1: 'playground', \n",
    "                                                              2 :'parks',  3 :'hospitals', \n",
    "                                                              4 :'health centers', 5 : 'schools'}) "
   ]
  },
  {
   "cell_type": "markdown",
   "metadata": {},
   "source": [
    "### Other indicators"
   ]
  },
  {
   "cell_type": "markdown",
   "metadata": {},
   "source": [
    "school score"
   ]
  },
  {
   "cell_type": "code",
   "execution_count": 4,
   "metadata": {},
   "outputs": [],
   "source": [
    "# score['school group'] = pd.cut(score['Overall Sc'], bins=[0, 24, 49, 74, 100], labels=False)\n",
    "# labels = np.array('Score:0-24 Score:25-49 Score:50-74 Score:75-100'.split())\n",
    "# score['school group'] = labels[score['school group']]"
   ]
  },
  {
   "cell_type": "markdown",
   "metadata": {},
   "source": [
    "#### Street condition score ( % with score of 30 or lower (good condition))"
   ]
  },
  {
   "cell_type": "code",
   "execution_count": 5,
   "metadata": {},
   "outputs": [],
   "source": [
    "# cut data to streets with rating less than 30 \n",
    "little_defect = condition.loc[condition['rating'] < 30 ]\n",
    "\n",
    "# count all streets in data \n",
    "all_streets = cp_data.puma_count(condition)\n",
    "\n",
    "# percent in good condition\n",
    "good_streets = cp_data.puma_count(little_defect, normalize = True, total = all_streets)"
   ]
  },
  {
   "cell_type": "markdown",
   "metadata": {},
   "source": [
    "#### % Streets with little to no litter"
   ]
  },
  {
   "cell_type": "code",
   "execution_count": 6,
   "metadata": {},
   "outputs": [],
   "source": [
    "# litter index score for 2018\n",
    "litter = litter.loc[litter['YEAR'] == 2018] \n",
    "# cut data to streets with little to no litter \n",
    "clean = litter.loc[(litter['score'] < 2) & (litter['score'] > 0)]\n",
    "\n",
    "# count all streets in data\n",
    "litter_streets = cp_data.puma_count(litter)\n",
    "\n",
    "# percent of streets with little to no litter\n",
    "clean_streets = cp_data.puma_count(clean, normalize = True, total = litter_streets)"
   ]
  },
  {
   "cell_type": "markdown",
   "metadata": {},
   "source": [
    "#### Number of new construction permits "
   ]
  },
  {
   "cell_type": "code",
   "execution_count": 7,
   "metadata": {},
   "outputs": [],
   "source": [
    "new_con = cp_data.puma_count(new_construction)"
   ]
  },
  {
   "cell_type": "markdown",
   "metadata": {},
   "source": [
    "### Combine into one dataframe"
   ]
  },
  {
   "cell_type": "code",
   "execution_count": 8,
   "metadata": {},
   "outputs": [
    {
     "data": {
      "text/html": [
       "<div>\n",
       "<style scoped>\n",
       "    .dataframe tbody tr th:only-of-type {\n",
       "        vertical-align: middle;\n",
       "    }\n",
       "\n",
       "    .dataframe tbody tr th {\n",
       "        vertical-align: top;\n",
       "    }\n",
       "\n",
       "    .dataframe thead th {\n",
       "        text-align: right;\n",
       "    }\n",
       "</style>\n",
       "<table border=\"1\" class=\"dataframe\">\n",
       "  <thead>\n",
       "    <tr style=\"text-align: right;\">\n",
       "      <th></th>\n",
       "      <th>library</th>\n",
       "      <th>playground</th>\n",
       "      <th>parks</th>\n",
       "      <th>hospitals</th>\n",
       "      <th>health centers</th>\n",
       "      <th>schools</th>\n",
       "      <th>good_streets</th>\n",
       "      <th>clean_streets</th>\n",
       "      <th>new_construction_permits</th>\n",
       "    </tr>\n",
       "    <tr>\n",
       "      <th>puma_id</th>\n",
       "      <th></th>\n",
       "      <th></th>\n",
       "      <th></th>\n",
       "      <th></th>\n",
       "      <th></th>\n",
       "      <th></th>\n",
       "      <th></th>\n",
       "      <th></th>\n",
       "      <th></th>\n",
       "    </tr>\n",
       "  </thead>\n",
       "  <tbody>\n",
       "    <tr>\n",
       "      <td>4203201</td>\n",
       "      <td>4</td>\n",
       "      <td>19</td>\n",
       "      <td>118</td>\n",
       "      <td>1</td>\n",
       "      <td>0.0</td>\n",
       "      <td>40</td>\n",
       "      <td>36.811254</td>\n",
       "      <td>74.397245</td>\n",
       "      <td>37</td>\n",
       "    </tr>\n",
       "    <tr>\n",
       "      <td>4203202</td>\n",
       "      <td>4</td>\n",
       "      <td>9</td>\n",
       "      <td>52</td>\n",
       "      <td>5</td>\n",
       "      <td>1.0</td>\n",
       "      <td>25</td>\n",
       "      <td>45.901639</td>\n",
       "      <td>48.566108</td>\n",
       "      <td>16</td>\n",
       "    </tr>\n",
       "    <tr>\n",
       "      <td>4203203</td>\n",
       "      <td>3</td>\n",
       "      <td>21</td>\n",
       "      <td>69</td>\n",
       "      <td>2</td>\n",
       "      <td>2.0</td>\n",
       "      <td>37</td>\n",
       "      <td>32.352941</td>\n",
       "      <td>39.112903</td>\n",
       "      <td>12</td>\n",
       "    </tr>\n",
       "    <tr>\n",
       "      <td>4203204</td>\n",
       "      <td>7</td>\n",
       "      <td>14</td>\n",
       "      <td>44</td>\n",
       "      <td>2</td>\n",
       "      <td>4.0</td>\n",
       "      <td>43</td>\n",
       "      <td>6.024096</td>\n",
       "      <td>35.411622</td>\n",
       "      <td>6</td>\n",
       "    </tr>\n",
       "    <tr>\n",
       "      <td>4203205</td>\n",
       "      <td>5</td>\n",
       "      <td>43</td>\n",
       "      <td>109</td>\n",
       "      <td>3</td>\n",
       "      <td>8.0</td>\n",
       "      <td>76</td>\n",
       "      <td>12.831858</td>\n",
       "      <td>28.388694</td>\n",
       "      <td>469</td>\n",
       "    </tr>\n",
       "    <tr>\n",
       "      <td>4203206</td>\n",
       "      <td>6</td>\n",
       "      <td>30</td>\n",
       "      <td>196</td>\n",
       "      <td>4</td>\n",
       "      <td>2.0</td>\n",
       "      <td>58</td>\n",
       "      <td>21.231767</td>\n",
       "      <td>59.905921</td>\n",
       "      <td>113</td>\n",
       "    </tr>\n",
       "    <tr>\n",
       "      <td>4203207</td>\n",
       "      <td>4</td>\n",
       "      <td>24</td>\n",
       "      <td>71</td>\n",
       "      <td>4</td>\n",
       "      <td>13.0</td>\n",
       "      <td>58</td>\n",
       "      <td>21.739130</td>\n",
       "      <td>20.334657</td>\n",
       "      <td>370</td>\n",
       "    </tr>\n",
       "    <tr>\n",
       "      <td>4203208</td>\n",
       "      <td>5</td>\n",
       "      <td>33</td>\n",
       "      <td>349</td>\n",
       "      <td>3</td>\n",
       "      <td>3.0</td>\n",
       "      <td>62</td>\n",
       "      <td>22.302158</td>\n",
       "      <td>27.395902</td>\n",
       "      <td>58</td>\n",
       "    </tr>\n",
       "    <tr>\n",
       "      <td>4203209</td>\n",
       "      <td>9</td>\n",
       "      <td>22</td>\n",
       "      <td>141</td>\n",
       "      <td>6</td>\n",
       "      <td>9.0</td>\n",
       "      <td>63</td>\n",
       "      <td>29.914530</td>\n",
       "      <td>67.122351</td>\n",
       "      <td>318</td>\n",
       "    </tr>\n",
       "    <tr>\n",
       "      <td>4203210</td>\n",
       "      <td>6</td>\n",
       "      <td>26</td>\n",
       "      <td>76</td>\n",
       "      <td>4</td>\n",
       "      <td>6.0</td>\n",
       "      <td>48</td>\n",
       "      <td>23.006135</td>\n",
       "      <td>27.354678</td>\n",
       "      <td>59</td>\n",
       "    </tr>\n",
       "    <tr>\n",
       "      <td>4203211</td>\n",
       "      <td>6</td>\n",
       "      <td>23</td>\n",
       "      <td>101</td>\n",
       "      <td>3</td>\n",
       "      <td>7.0</td>\n",
       "      <td>36</td>\n",
       "      <td>35.465116</td>\n",
       "      <td>45.560166</td>\n",
       "      <td>359</td>\n",
       "    </tr>\n",
       "  </tbody>\n",
       "</table>\n",
       "</div>"
      ],
      "text/plain": [
       "         library  playground  parks  hospitals  health centers  schools  \\\n",
       "puma_id                                                                   \n",
       "4203201        4          19    118          1             0.0       40   \n",
       "4203202        4           9     52          5             1.0       25   \n",
       "4203203        3          21     69          2             2.0       37   \n",
       "4203204        7          14     44          2             4.0       43   \n",
       "4203205        5          43    109          3             8.0       76   \n",
       "4203206        6          30    196          4             2.0       58   \n",
       "4203207        4          24     71          4            13.0       58   \n",
       "4203208        5          33    349          3             3.0       62   \n",
       "4203209        9          22    141          6             9.0       63   \n",
       "4203210        6          26     76          4             6.0       48   \n",
       "4203211        6          23    101          3             7.0       36   \n",
       "\n",
       "         good_streets  clean_streets  new_construction_permits  \n",
       "puma_id                                                         \n",
       "4203201     36.811254      74.397245                        37  \n",
       "4203202     45.901639      48.566108                        16  \n",
       "4203203     32.352941      39.112903                        12  \n",
       "4203204      6.024096      35.411622                         6  \n",
       "4203205     12.831858      28.388694                       469  \n",
       "4203206     21.231767      59.905921                       113  \n",
       "4203207     21.739130      20.334657                       370  \n",
       "4203208     22.302158      27.395902                        58  \n",
       "4203209     29.914530      67.122351                       318  \n",
       "4203210     23.006135      27.354678                        59  \n",
       "4203211     35.465116      45.560166                       359  "
      ]
     },
     "execution_count": 8,
     "metadata": {},
     "output_type": "execute_result"
    }
   ],
   "source": [
    "#combine series into dataframe\n",
    "d = {'good_streets' : good_streets,\n",
    "    'clean_streets' : clean_streets,\n",
    "    'new_construction_permits' : new_con }\n",
    "df = pd.DataFrame(d)\n",
    "\n",
    "# combine all dataframes together\n",
    "df = pd.concat((puma_assets, df), axis =1 )\n",
    "df"
   ]
  },
  {
   "cell_type": "code",
   "execution_count": null,
   "metadata": {},
   "outputs": [],
   "source": []
  }
 ],
 "metadata": {
  "kernelspec": {
   "display_name": "Python 3",
   "language": "python",
   "name": "python3"
  },
  "language_info": {
   "codemirror_mode": {
    "name": "ipython",
    "version": 3
   },
   "file_extension": ".py",
   "mimetype": "text/x-python",
   "name": "python",
   "nbconvert_exporter": "python",
   "pygments_lexer": "ipython3",
   "version": "3.7.4"
  }
 },
 "nbformat": 4,
 "nbformat_minor": 2
}
